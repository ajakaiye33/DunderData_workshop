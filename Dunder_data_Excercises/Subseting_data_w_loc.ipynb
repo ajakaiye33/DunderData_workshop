{
  "cells": [
    {
      "metadata": {
        "trusted": true
      },
      "cell_type": "code",
      "source": "import pandas as pd\n",
      "execution_count": 1,
      "outputs": []
    },
    {
      "metadata": {
        "trusted": true
      },
      "cell_type": "code",
      "source": "movy = pd.read_csv('movie.csv')\nmovy.head()",
      "execution_count": 2,
      "outputs": [
        {
          "output_type": "execute_result",
          "execution_count": 2,
          "data": {
            "text/html": "<div>\n<style scoped>\n    .dataframe tbody tr th:only-of-type {\n        vertical-align: middle;\n    }\n\n    .dataframe tbody tr th {\n        vertical-align: top;\n    }\n\n    .dataframe thead th {\n        text-align: right;\n    }\n</style>\n<table border=\"1\" class=\"dataframe\">\n  <thead>\n    <tr style=\"text-align: right;\">\n      <th></th>\n      <th>title</th>\n      <th>year</th>\n      <th>color</th>\n      <th>content_rating</th>\n      <th>duration</th>\n      <th>director_name</th>\n      <th>director_fb</th>\n      <th>actor1</th>\n      <th>actor1_fb</th>\n      <th>actor2</th>\n      <th>...</th>\n      <th>actor3_fb</th>\n      <th>gross</th>\n      <th>genres</th>\n      <th>num_reviews</th>\n      <th>num_voted_users</th>\n      <th>plot_keywords</th>\n      <th>language</th>\n      <th>country</th>\n      <th>budget</th>\n      <th>imdb_score</th>\n    </tr>\n  </thead>\n  <tbody>\n    <tr>\n      <th>0</th>\n      <td>Avatar</td>\n      <td>2009.0</td>\n      <td>Color</td>\n      <td>PG-13</td>\n      <td>178.0</td>\n      <td>James Cameron</td>\n      <td>0.0</td>\n      <td>CCH Pounder</td>\n      <td>1000.0</td>\n      <td>Joel David Moore</td>\n      <td>...</td>\n      <td>855.0</td>\n      <td>760505847.0</td>\n      <td>Action|Adventure|Fantasy|Sci-Fi</td>\n      <td>723.0</td>\n      <td>886204</td>\n      <td>avatar|future|marine|native|paraplegic</td>\n      <td>English</td>\n      <td>USA</td>\n      <td>237000000.0</td>\n      <td>7.9</td>\n    </tr>\n    <tr>\n      <th>1</th>\n      <td>Pirates of the Caribbean: At World's End</td>\n      <td>2007.0</td>\n      <td>Color</td>\n      <td>PG-13</td>\n      <td>169.0</td>\n      <td>Gore Verbinski</td>\n      <td>563.0</td>\n      <td>Johnny Depp</td>\n      <td>40000.0</td>\n      <td>Orlando Bloom</td>\n      <td>...</td>\n      <td>1000.0</td>\n      <td>309404152.0</td>\n      <td>Action|Adventure|Fantasy</td>\n      <td>302.0</td>\n      <td>471220</td>\n      <td>goddess|marriage ceremony|marriage proposal|pi...</td>\n      <td>English</td>\n      <td>USA</td>\n      <td>300000000.0</td>\n      <td>7.1</td>\n    </tr>\n    <tr>\n      <th>2</th>\n      <td>Spectre</td>\n      <td>2015.0</td>\n      <td>Color</td>\n      <td>PG-13</td>\n      <td>148.0</td>\n      <td>Sam Mendes</td>\n      <td>0.0</td>\n      <td>Christoph Waltz</td>\n      <td>11000.0</td>\n      <td>Rory Kinnear</td>\n      <td>...</td>\n      <td>161.0</td>\n      <td>200074175.0</td>\n      <td>Action|Adventure|Thriller</td>\n      <td>602.0</td>\n      <td>275868</td>\n      <td>bomb|espionage|sequel|spy|terrorist</td>\n      <td>English</td>\n      <td>UK</td>\n      <td>245000000.0</td>\n      <td>6.8</td>\n    </tr>\n    <tr>\n      <th>3</th>\n      <td>The Dark Knight Rises</td>\n      <td>2012.0</td>\n      <td>Color</td>\n      <td>PG-13</td>\n      <td>164.0</td>\n      <td>Christopher Nolan</td>\n      <td>22000.0</td>\n      <td>Tom Hardy</td>\n      <td>27000.0</td>\n      <td>Christian Bale</td>\n      <td>...</td>\n      <td>23000.0</td>\n      <td>448130642.0</td>\n      <td>Action|Thriller</td>\n      <td>813.0</td>\n      <td>1144337</td>\n      <td>deception|imprisonment|lawlessness|police offi...</td>\n      <td>English</td>\n      <td>USA</td>\n      <td>250000000.0</td>\n      <td>8.5</td>\n    </tr>\n    <tr>\n      <th>4</th>\n      <td>Star Wars: Episode VII - The Force Awakens</td>\n      <td>NaN</td>\n      <td>NaN</td>\n      <td>NaN</td>\n      <td>NaN</td>\n      <td>Doug Walker</td>\n      <td>131.0</td>\n      <td>Doug Walker</td>\n      <td>131.0</td>\n      <td>Rob Walker</td>\n      <td>...</td>\n      <td>NaN</td>\n      <td>NaN</td>\n      <td>Documentary</td>\n      <td>NaN</td>\n      <td>8</td>\n      <td>NaN</td>\n      <td>NaN</td>\n      <td>NaN</td>\n      <td>NaN</td>\n      <td>7.1</td>\n    </tr>\n  </tbody>\n</table>\n<p>5 rows × 22 columns</p>\n</div>",
            "text/plain": "                                        title    year  color content_rating  \\\n0                                      Avatar  2009.0  Color          PG-13   \n1    Pirates of the Caribbean: At World's End  2007.0  Color          PG-13   \n2                                     Spectre  2015.0  Color          PG-13   \n3                       The Dark Knight Rises  2012.0  Color          PG-13   \n4  Star Wars: Episode VII - The Force Awakens     NaN    NaN            NaN   \n\n   duration      director_name  director_fb           actor1  actor1_fb  \\\n0     178.0      James Cameron          0.0      CCH Pounder     1000.0   \n1     169.0     Gore Verbinski        563.0      Johnny Depp    40000.0   \n2     148.0         Sam Mendes          0.0  Christoph Waltz    11000.0   \n3     164.0  Christopher Nolan      22000.0        Tom Hardy    27000.0   \n4       NaN        Doug Walker        131.0      Doug Walker      131.0   \n\n             actor2    ...      actor3_fb        gross  \\\n0  Joel David Moore    ...          855.0  760505847.0   \n1     Orlando Bloom    ...         1000.0  309404152.0   \n2      Rory Kinnear    ...          161.0  200074175.0   \n3    Christian Bale    ...        23000.0  448130642.0   \n4        Rob Walker    ...            NaN          NaN   \n\n                            genres  num_reviews num_voted_users  \\\n0  Action|Adventure|Fantasy|Sci-Fi        723.0          886204   \n1         Action|Adventure|Fantasy        302.0          471220   \n2        Action|Adventure|Thriller        602.0          275868   \n3                  Action|Thriller        813.0         1144337   \n4                      Documentary          NaN               8   \n\n                                       plot_keywords  language country  \\\n0             avatar|future|marine|native|paraplegic   English     USA   \n1  goddess|marriage ceremony|marriage proposal|pi...   English     USA   \n2                bomb|espionage|sequel|spy|terrorist   English      UK   \n3  deception|imprisonment|lawlessness|police offi...   English     USA   \n4                                                NaN       NaN     NaN   \n\n        budget imdb_score  \n0  237000000.0        7.9  \n1  300000000.0        7.1  \n2  245000000.0        6.8  \n3  250000000.0        8.5  \n4          NaN        7.1  \n\n[5 rows x 22 columns]"
          },
          "metadata": {}
        }
      ]
    },
    {
      "metadata": {
        "trusted": true
      },
      "cell_type": "code",
      "source": "#set title as index\nmovy2 = movy.set_index('title')\nmovy2.head()",
      "execution_count": 3,
      "outputs": [
        {
          "output_type": "execute_result",
          "execution_count": 3,
          "data": {
            "text/html": "<div>\n<style scoped>\n    .dataframe tbody tr th:only-of-type {\n        vertical-align: middle;\n    }\n\n    .dataframe tbody tr th {\n        vertical-align: top;\n    }\n\n    .dataframe thead th {\n        text-align: right;\n    }\n</style>\n<table border=\"1\" class=\"dataframe\">\n  <thead>\n    <tr style=\"text-align: right;\">\n      <th></th>\n      <th>year</th>\n      <th>color</th>\n      <th>content_rating</th>\n      <th>duration</th>\n      <th>director_name</th>\n      <th>director_fb</th>\n      <th>actor1</th>\n      <th>actor1_fb</th>\n      <th>actor2</th>\n      <th>actor2_fb</th>\n      <th>...</th>\n      <th>actor3_fb</th>\n      <th>gross</th>\n      <th>genres</th>\n      <th>num_reviews</th>\n      <th>num_voted_users</th>\n      <th>plot_keywords</th>\n      <th>language</th>\n      <th>country</th>\n      <th>budget</th>\n      <th>imdb_score</th>\n    </tr>\n    <tr>\n      <th>title</th>\n      <th></th>\n      <th></th>\n      <th></th>\n      <th></th>\n      <th></th>\n      <th></th>\n      <th></th>\n      <th></th>\n      <th></th>\n      <th></th>\n      <th></th>\n      <th></th>\n      <th></th>\n      <th></th>\n      <th></th>\n      <th></th>\n      <th></th>\n      <th></th>\n      <th></th>\n      <th></th>\n      <th></th>\n    </tr>\n  </thead>\n  <tbody>\n    <tr>\n      <th>Avatar</th>\n      <td>2009.0</td>\n      <td>Color</td>\n      <td>PG-13</td>\n      <td>178.0</td>\n      <td>James Cameron</td>\n      <td>0.0</td>\n      <td>CCH Pounder</td>\n      <td>1000.0</td>\n      <td>Joel David Moore</td>\n      <td>936.0</td>\n      <td>...</td>\n      <td>855.0</td>\n      <td>760505847.0</td>\n      <td>Action|Adventure|Fantasy|Sci-Fi</td>\n      <td>723.0</td>\n      <td>886204</td>\n      <td>avatar|future|marine|native|paraplegic</td>\n      <td>English</td>\n      <td>USA</td>\n      <td>237000000.0</td>\n      <td>7.9</td>\n    </tr>\n    <tr>\n      <th>Pirates of the Caribbean: At World's End</th>\n      <td>2007.0</td>\n      <td>Color</td>\n      <td>PG-13</td>\n      <td>169.0</td>\n      <td>Gore Verbinski</td>\n      <td>563.0</td>\n      <td>Johnny Depp</td>\n      <td>40000.0</td>\n      <td>Orlando Bloom</td>\n      <td>5000.0</td>\n      <td>...</td>\n      <td>1000.0</td>\n      <td>309404152.0</td>\n      <td>Action|Adventure|Fantasy</td>\n      <td>302.0</td>\n      <td>471220</td>\n      <td>goddess|marriage ceremony|marriage proposal|pi...</td>\n      <td>English</td>\n      <td>USA</td>\n      <td>300000000.0</td>\n      <td>7.1</td>\n    </tr>\n    <tr>\n      <th>Spectre</th>\n      <td>2015.0</td>\n      <td>Color</td>\n      <td>PG-13</td>\n      <td>148.0</td>\n      <td>Sam Mendes</td>\n      <td>0.0</td>\n      <td>Christoph Waltz</td>\n      <td>11000.0</td>\n      <td>Rory Kinnear</td>\n      <td>393.0</td>\n      <td>...</td>\n      <td>161.0</td>\n      <td>200074175.0</td>\n      <td>Action|Adventure|Thriller</td>\n      <td>602.0</td>\n      <td>275868</td>\n      <td>bomb|espionage|sequel|spy|terrorist</td>\n      <td>English</td>\n      <td>UK</td>\n      <td>245000000.0</td>\n      <td>6.8</td>\n    </tr>\n    <tr>\n      <th>The Dark Knight Rises</th>\n      <td>2012.0</td>\n      <td>Color</td>\n      <td>PG-13</td>\n      <td>164.0</td>\n      <td>Christopher Nolan</td>\n      <td>22000.0</td>\n      <td>Tom Hardy</td>\n      <td>27000.0</td>\n      <td>Christian Bale</td>\n      <td>23000.0</td>\n      <td>...</td>\n      <td>23000.0</td>\n      <td>448130642.0</td>\n      <td>Action|Thriller</td>\n      <td>813.0</td>\n      <td>1144337</td>\n      <td>deception|imprisonment|lawlessness|police offi...</td>\n      <td>English</td>\n      <td>USA</td>\n      <td>250000000.0</td>\n      <td>8.5</td>\n    </tr>\n    <tr>\n      <th>Star Wars: Episode VII - The Force Awakens</th>\n      <td>NaN</td>\n      <td>NaN</td>\n      <td>NaN</td>\n      <td>NaN</td>\n      <td>Doug Walker</td>\n      <td>131.0</td>\n      <td>Doug Walker</td>\n      <td>131.0</td>\n      <td>Rob Walker</td>\n      <td>12.0</td>\n      <td>...</td>\n      <td>NaN</td>\n      <td>NaN</td>\n      <td>Documentary</td>\n      <td>NaN</td>\n      <td>8</td>\n      <td>NaN</td>\n      <td>NaN</td>\n      <td>NaN</td>\n      <td>NaN</td>\n      <td>7.1</td>\n    </tr>\n  </tbody>\n</table>\n<p>5 rows × 21 columns</p>\n</div>",
            "text/plain": "                                              year  color content_rating  \\\ntitle                                                                      \nAvatar                                      2009.0  Color          PG-13   \nPirates of the Caribbean: At World's End    2007.0  Color          PG-13   \nSpectre                                     2015.0  Color          PG-13   \nThe Dark Knight Rises                       2012.0  Color          PG-13   \nStar Wars: Episode VII - The Force Awakens     NaN    NaN            NaN   \n\n                                            duration      director_name  \\\ntitle                                                                     \nAvatar                                         178.0      James Cameron   \nPirates of the Caribbean: At World's End       169.0     Gore Verbinski   \nSpectre                                        148.0         Sam Mendes   \nThe Dark Knight Rises                          164.0  Christopher Nolan   \nStar Wars: Episode VII - The Force Awakens       NaN        Doug Walker   \n\n                                            director_fb           actor1  \\\ntitle                                                                      \nAvatar                                              0.0      CCH Pounder   \nPirates of the Caribbean: At World's End          563.0      Johnny Depp   \nSpectre                                             0.0  Christoph Waltz   \nThe Dark Knight Rises                           22000.0        Tom Hardy   \nStar Wars: Episode VII - The Force Awakens        131.0      Doug Walker   \n\n                                            actor1_fb            actor2  \\\ntitle                                                                     \nAvatar                                         1000.0  Joel David Moore   \nPirates of the Caribbean: At World's End      40000.0     Orlando Bloom   \nSpectre                                       11000.0      Rory Kinnear   \nThe Dark Knight Rises                         27000.0    Christian Bale   \nStar Wars: Episode VII - The Force Awakens      131.0        Rob Walker   \n\n                                            actor2_fb     ...     actor3_fb  \\\ntitle                                                     ...                 \nAvatar                                          936.0     ...         855.0   \nPirates of the Caribbean: At World's End       5000.0     ...        1000.0   \nSpectre                                         393.0     ...         161.0   \nThe Dark Knight Rises                         23000.0     ...       23000.0   \nStar Wars: Episode VII - The Force Awakens       12.0     ...           NaN   \n\n                                                  gross  \\\ntitle                                                     \nAvatar                                      760505847.0   \nPirates of the Caribbean: At World's End    309404152.0   \nSpectre                                     200074175.0   \nThe Dark Knight Rises                       448130642.0   \nStar Wars: Episode VII - The Force Awakens          NaN   \n\n                                                                     genres  \\\ntitle                                                                         \nAvatar                                      Action|Adventure|Fantasy|Sci-Fi   \nPirates of the Caribbean: At World's End           Action|Adventure|Fantasy   \nSpectre                                           Action|Adventure|Thriller   \nThe Dark Knight Rises                                       Action|Thriller   \nStar Wars: Episode VII - The Force Awakens                      Documentary   \n\n                                           num_reviews  num_voted_users  \\\ntitle                                                                     \nAvatar                                           723.0           886204   \nPirates of the Caribbean: At World's End         302.0           471220   \nSpectre                                          602.0           275868   \nThe Dark Knight Rises                            813.0          1144337   \nStar Wars: Episode VII - The Force Awakens         NaN                8   \n\n                                                                                plot_keywords  \\\ntitle                                                                                           \nAvatar                                                 avatar|future|marine|native|paraplegic   \nPirates of the Caribbean: At World's End    goddess|marriage ceremony|marriage proposal|pi...   \nSpectre                                                   bomb|espionage|sequel|spy|terrorist   \nThe Dark Knight Rises                       deception|imprisonment|lawlessness|police offi...   \nStar Wars: Episode VII - The Force Awakens                                                NaN   \n\n                                           language country       budget  \\\ntitle                                                                      \nAvatar                                      English     USA  237000000.0   \nPirates of the Caribbean: At World's End    English     USA  300000000.0   \nSpectre                                     English      UK  245000000.0   \nThe Dark Knight Rises                       English     USA  250000000.0   \nStar Wars: Episode VII - The Force Awakens      NaN     NaN          NaN   \n\n                                            imdb_score  \ntitle                                                   \nAvatar                                             7.9  \nPirates of the Caribbean: At World's End           7.1  \nSpectre                                            6.8  \nThe Dark Knight Rises                              8.5  \nStar Wars: Episode VII - The Force Awakens         7.1  \n\n[5 rows x 21 columns]"
          },
          "metadata": {}
        }
      ]
    },
    {
      "metadata": {
        "trusted": true
      },
      "cell_type": "code",
      "source": "#select all columns of the movie : The Dark Knight\ndark_knight = movy2.loc['The Dark Knight Rises',:]\ndark_knight.head()",
      "execution_count": 4,
      "outputs": [
        {
          "output_type": "execute_result",
          "execution_count": 4,
          "data": {
            "text/plain": "year                           2012\ncolor                         Color\ncontent_rating                PG-13\nduration                        164\ndirector_name     Christopher Nolan\nName: The Dark Knight Rises, dtype: object"
          },
          "metadata": {}
        }
      ]
    },
    {
      "metadata": {
        "trusted": true
      },
      "cell_type": "code",
      "source": "#select all columns for the movies: Tangled and Avatar\nmovy2.loc[['Tangled', 'Avatar'], :].head()",
      "execution_count": 5,
      "outputs": [
        {
          "output_type": "execute_result",
          "execution_count": 5,
          "data": {
            "text/html": "<div>\n<style scoped>\n    .dataframe tbody tr th:only-of-type {\n        vertical-align: middle;\n    }\n\n    .dataframe tbody tr th {\n        vertical-align: top;\n    }\n\n    .dataframe thead th {\n        text-align: right;\n    }\n</style>\n<table border=\"1\" class=\"dataframe\">\n  <thead>\n    <tr style=\"text-align: right;\">\n      <th></th>\n      <th>year</th>\n      <th>color</th>\n      <th>content_rating</th>\n      <th>duration</th>\n      <th>director_name</th>\n      <th>director_fb</th>\n      <th>actor1</th>\n      <th>actor1_fb</th>\n      <th>actor2</th>\n      <th>actor2_fb</th>\n      <th>...</th>\n      <th>actor3_fb</th>\n      <th>gross</th>\n      <th>genres</th>\n      <th>num_reviews</th>\n      <th>num_voted_users</th>\n      <th>plot_keywords</th>\n      <th>language</th>\n      <th>country</th>\n      <th>budget</th>\n      <th>imdb_score</th>\n    </tr>\n    <tr>\n      <th>title</th>\n      <th></th>\n      <th></th>\n      <th></th>\n      <th></th>\n      <th></th>\n      <th></th>\n      <th></th>\n      <th></th>\n      <th></th>\n      <th></th>\n      <th></th>\n      <th></th>\n      <th></th>\n      <th></th>\n      <th></th>\n      <th></th>\n      <th></th>\n      <th></th>\n      <th></th>\n      <th></th>\n      <th></th>\n    </tr>\n  </thead>\n  <tbody>\n    <tr>\n      <th>Tangled</th>\n      <td>2010.0</td>\n      <td>Color</td>\n      <td>PG</td>\n      <td>100.0</td>\n      <td>Nathan Greno</td>\n      <td>15.0</td>\n      <td>Brad Garrett</td>\n      <td>799.0</td>\n      <td>Donna Murphy</td>\n      <td>553.0</td>\n      <td>...</td>\n      <td>284.0</td>\n      <td>200807262.0</td>\n      <td>Adventure|Animation|Comedy|Family|Fantasy|Musi...</td>\n      <td>324.0</td>\n      <td>294810</td>\n      <td>17th century|based on fairy tale|disney|flower...</td>\n      <td>English</td>\n      <td>USA</td>\n      <td>260000000.0</td>\n      <td>7.8</td>\n    </tr>\n    <tr>\n      <th>Avatar</th>\n      <td>2009.0</td>\n      <td>Color</td>\n      <td>PG-13</td>\n      <td>178.0</td>\n      <td>James Cameron</td>\n      <td>0.0</td>\n      <td>CCH Pounder</td>\n      <td>1000.0</td>\n      <td>Joel David Moore</td>\n      <td>936.0</td>\n      <td>...</td>\n      <td>855.0</td>\n      <td>760505847.0</td>\n      <td>Action|Adventure|Fantasy|Sci-Fi</td>\n      <td>723.0</td>\n      <td>886204</td>\n      <td>avatar|future|marine|native|paraplegic</td>\n      <td>English</td>\n      <td>USA</td>\n      <td>237000000.0</td>\n      <td>7.9</td>\n    </tr>\n  </tbody>\n</table>\n<p>2 rows × 21 columns</p>\n</div>",
            "text/plain": "           year  color content_rating  duration  director_name  director_fb  \\\ntitle                                                                         \nTangled  2010.0  Color             PG     100.0   Nathan Greno         15.0   \nAvatar   2009.0  Color          PG-13     178.0  James Cameron          0.0   \n\n               actor1  actor1_fb            actor2  actor2_fb     ...      \\\ntitle                                                             ...       \nTangled  Brad Garrett      799.0      Donna Murphy      553.0     ...       \nAvatar    CCH Pounder     1000.0  Joel David Moore      936.0     ...       \n\n        actor3_fb        gross  \\\ntitle                            \nTangled     284.0  200807262.0   \nAvatar      855.0  760505847.0   \n\n                                                    genres num_reviews  \\\ntitle                                                                    \nTangled  Adventure|Animation|Comedy|Family|Fantasy|Musi...       324.0   \nAvatar                     Action|Adventure|Fantasy|Sci-Fi       723.0   \n\n         num_voted_users                                      plot_keywords  \\\ntitle                                                                         \nTangled           294810  17th century|based on fairy tale|disney|flower...   \nAvatar            886204             avatar|future|marine|native|paraplegic   \n\n        language country       budget  imdb_score  \ntitle                                              \nTangled  English     USA  260000000.0         7.8  \nAvatar   English     USA  237000000.0         7.9  \n\n[2 rows x 21 columns]"
          },
          "metadata": {}
        }
      ]
    },
    {
      "metadata": {
        "trusted": true
      },
      "cell_type": "code",
      "source": "#what year was Tanglr made and what was their IMBD score\nmovy2.loc[['Tangled', 'Avatar'], ['year', 'imdb_score']].head()",
      "execution_count": 6,
      "outputs": [
        {
          "output_type": "execute_result",
          "execution_count": 6,
          "data": {
            "text/html": "<div>\n<style scoped>\n    .dataframe tbody tr th:only-of-type {\n        vertical-align: middle;\n    }\n\n    .dataframe tbody tr th {\n        vertical-align: top;\n    }\n\n    .dataframe thead th {\n        text-align: right;\n    }\n</style>\n<table border=\"1\" class=\"dataframe\">\n  <thead>\n    <tr style=\"text-align: right;\">\n      <th></th>\n      <th>year</th>\n      <th>imdb_score</th>\n    </tr>\n    <tr>\n      <th>title</th>\n      <th></th>\n      <th></th>\n    </tr>\n  </thead>\n  <tbody>\n    <tr>\n      <th>Tangled</th>\n      <td>2010.0</td>\n      <td>7.8</td>\n    </tr>\n    <tr>\n      <th>Avatar</th>\n      <td>2009.0</td>\n      <td>7.9</td>\n    </tr>\n  </tbody>\n</table>\n</div>",
            "text/plain": "           year  imdb_score\ntitle                      \nTangled  2010.0         7.8\nAvatar   2009.0         7.9"
          },
          "metadata": {}
        }
      ]
    },
    {
      "metadata": {
        "trusted": true
      },
      "cell_type": "code",
      "source": "#can you tell the data type of the year column by looking at it values\nmovy2['year'].values\n",
      "execution_count": 7,
      "outputs": [
        {
          "output_type": "execute_result",
          "execution_count": 7,
          "data": {
            "text/plain": "array([2009., 2007., 2015., ..., 2013., 2012., 2004.])"
          },
          "metadata": {}
        }
      ]
    },
    {
      "metadata": {},
      "cell_type": "markdown",
      "source": "the data type of the year column is float\n"
    },
    {
      "metadata": {
        "trusted": true
      },
      "cell_type": "code",
      "source": "# Use a single line method to output te data type and number of non-missing values of year. Is it missing any\nmovy2['year'].dtypes",
      "execution_count": 8,
      "outputs": [
        {
          "output_type": "execute_result",
          "execution_count": 8,
          "data": {
            "text/plain": "dtype('float64')"
          },
          "metadata": {}
        }
      ]
    },
    {
      "metadata": {
        "trusted": true
      },
      "cell_type": "code",
      "source": "pd.set_option('display.max_rows', 1000)",
      "execution_count": 14,
      "outputs": []
    },
    {
      "metadata": {
        "trusted": true
      },
      "cell_type": "code",
      "source": "#select every movie between Tangled and Forest Gump\n#movy2.loc['Tangled':'Forrest Gump', ['year', 'color']]\nmovy2.loc['Tangled':'Forrest Gump':100]",
      "execution_count": 24,
      "outputs": [
        {
          "output_type": "execute_result",
          "execution_count": 24,
          "data": {
            "text/html": "<div>\n<style scoped>\n    .dataframe tbody tr th:only-of-type {\n        vertical-align: middle;\n    }\n\n    .dataframe tbody tr th {\n        vertical-align: top;\n    }\n\n    .dataframe thead th {\n        text-align: right;\n    }\n</style>\n<table border=\"1\" class=\"dataframe\">\n  <thead>\n    <tr style=\"text-align: right;\">\n      <th></th>\n      <th>year</th>\n      <th>color</th>\n      <th>content_rating</th>\n      <th>duration</th>\n      <th>director_name</th>\n      <th>director_fb</th>\n      <th>actor1</th>\n      <th>actor1_fb</th>\n      <th>actor2</th>\n      <th>actor2_fb</th>\n      <th>...</th>\n      <th>actor3_fb</th>\n      <th>gross</th>\n      <th>genres</th>\n      <th>num_reviews</th>\n      <th>num_voted_users</th>\n      <th>plot_keywords</th>\n      <th>language</th>\n      <th>country</th>\n      <th>budget</th>\n      <th>imdb_score</th>\n    </tr>\n    <tr>\n      <th>title</th>\n      <th></th>\n      <th></th>\n      <th></th>\n      <th></th>\n      <th></th>\n      <th></th>\n      <th></th>\n      <th></th>\n      <th></th>\n      <th></th>\n      <th></th>\n      <th></th>\n      <th></th>\n      <th></th>\n      <th></th>\n      <th></th>\n      <th></th>\n      <th></th>\n      <th></th>\n      <th></th>\n      <th></th>\n    </tr>\n  </thead>\n  <tbody>\n    <tr>\n      <th>Tangled</th>\n      <td>2010.0</td>\n      <td>Color</td>\n      <td>PG</td>\n      <td>100.0</td>\n      <td>Nathan Greno</td>\n      <td>15.0</td>\n      <td>Brad Garrett</td>\n      <td>799.0</td>\n      <td>Donna Murphy</td>\n      <td>553.0</td>\n      <td>...</td>\n      <td>284.0</td>\n      <td>200807262.0</td>\n      <td>Adventure|Animation|Comedy|Family|Fantasy|Musi...</td>\n      <td>324.0</td>\n      <td>294810</td>\n      <td>17th century|based on fairy tale|disney|flower...</td>\n      <td>English</td>\n      <td>USA</td>\n      <td>260000000.0</td>\n      <td>7.8</td>\n    </tr>\n    <tr>\n      <th>Shrek the Third</th>\n      <td>2007.0</td>\n      <td>Color</td>\n      <td>PG</td>\n      <td>93.0</td>\n      <td>Chris Miller</td>\n      <td>50.0</td>\n      <td>Justin Timberlake</td>\n      <td>3000.0</td>\n      <td>Eric Idle</td>\n      <td>795.0</td>\n      <td>...</td>\n      <td>692.0</td>\n      <td>320706665.0</td>\n      <td>Adventure|Animation|Comedy|Family|Fantasy</td>\n      <td>227.0</td>\n      <td>211971</td>\n      <td>disney spoof|fairy tale|prince|princess|tough guy</td>\n      <td>English</td>\n      <td>USA</td>\n      <td>160000000.0</td>\n      <td>6.1</td>\n    </tr>\n    <tr>\n      <th>X-Men 2</th>\n      <td>2003.0</td>\n      <td>Color</td>\n      <td>PG-13</td>\n      <td>134.0</td>\n      <td>Bryan Singer</td>\n      <td>0.0</td>\n      <td>Hugh Jackman</td>\n      <td>20000.0</td>\n      <td>Bruce Davison</td>\n      <td>505.0</td>\n      <td>...</td>\n      <td>346.0</td>\n      <td>214948780.0</td>\n      <td>Action|Adventure|Fantasy|Sci-Fi|Thriller</td>\n      <td>289.0</td>\n      <td>405973</td>\n      <td>mutant|prison|professor|school|x men</td>\n      <td>English</td>\n      <td>Canada</td>\n      <td>110000000.0</td>\n      <td>7.5</td>\n    </tr>\n    <tr>\n      <th>Cloud Atlas</th>\n      <td>2012.0</td>\n      <td>Color</td>\n      <td>R</td>\n      <td>172.0</td>\n      <td>Tom Tykwer</td>\n      <td>670.0</td>\n      <td>Tom Hanks</td>\n      <td>15000.0</td>\n      <td>Jim Sturgess</td>\n      <td>5000.0</td>\n      <td>...</td>\n      <td>1000.0</td>\n      <td>27098580.0</td>\n      <td>Drama|Sci-Fi</td>\n      <td>511.0</td>\n      <td>284825</td>\n      <td>composer|future|letter|nonlinear timeline|nurs...</td>\n      <td>English</td>\n      <td>Germany</td>\n      <td>102000000.0</td>\n      <td>7.5</td>\n    </tr>\n    <tr>\n      <th>Divergent</th>\n      <td>2014.0</td>\n      <td>Color</td>\n      <td>PG-13</td>\n      <td>139.0</td>\n      <td>Neil Burger</td>\n      <td>168.0</td>\n      <td>Kate Winslet</td>\n      <td>14000.0</td>\n      <td>Theo James</td>\n      <td>5000.0</td>\n      <td>...</td>\n      <td>1000.0</td>\n      <td>150832203.0</td>\n      <td>Adventure|Mystery|Sci-Fi</td>\n      <td>459.0</td>\n      <td>341058</td>\n      <td>army|brother sister relationship|dystopia|fath...</td>\n      <td>English</td>\n      <td>USA</td>\n      <td>85000000.0</td>\n      <td>6.7</td>\n    </tr>\n    <tr>\n      <th>Hidalgo</th>\n      <td>2004.0</td>\n      <td>Color</td>\n      <td>PG-13</td>\n      <td>136.0</td>\n      <td>Joe Johnston</td>\n      <td>394.0</td>\n      <td>J.K. Simmons</td>\n      <td>24000.0</td>\n      <td>Viggo Mortensen</td>\n      <td>10000.0</td>\n      <td>...</td>\n      <td>1000.0</td>\n      <td>67286731.0</td>\n      <td>Action|Adventure|Western</td>\n      <td>140.0</td>\n      <td>67856</td>\n      <td>arab|cowboy|horse|race|sheik</td>\n      <td>English</td>\n      <td>USA</td>\n      <td>100000000.0</td>\n      <td>6.7</td>\n    </tr>\n    <tr>\n      <th>Doom</th>\n      <td>2005.0</td>\n      <td>Color</td>\n      <td>R</td>\n      <td>113.0</td>\n      <td>Andrzej Bartkowiak</td>\n      <td>43.0</td>\n      <td>Dwayne Johnson</td>\n      <td>12000.0</td>\n      <td>Ben Daniels</td>\n      <td>585.0</td>\n      <td>...</td>\n      <td>452.0</td>\n      <td>28031250.0</td>\n      <td>Action|Adventure|Horror|Sci-Fi</td>\n      <td>237.0</td>\n      <td>88146</td>\n      <td>commando unit|extra chromosome|first person sh...</td>\n      <td>English</td>\n      <td>UK</td>\n      <td>60000000.0</td>\n      <td>5.2</td>\n    </tr>\n    <tr>\n      <th>Gone Girl</th>\n      <td>2014.0</td>\n      <td>Color</td>\n      <td>R</td>\n      <td>149.0</td>\n      <td>David Fincher</td>\n      <td>21000.0</td>\n      <td>Patrick Fugit</td>\n      <td>835.0</td>\n      <td>Sela Ward</td>\n      <td>812.0</td>\n      <td>...</td>\n      <td>625.0</td>\n      <td>167735396.0</td>\n      <td>Crime|Drama|Mystery|Thriller</td>\n      <td>568.0</td>\n      <td>569841</td>\n      <td>based on novel|disappearance|missing person|mi...</td>\n      <td>English</td>\n      <td>USA</td>\n      <td>61000000.0</td>\n      <td>8.1</td>\n    </tr>\n    <tr>\n      <th>Sabrina, the Teenage Witch</th>\n      <td>NaN</td>\n      <td>Color</td>\n      <td>TV-G</td>\n      <td>22.0</td>\n      <td>NaN</td>\n      <td>NaN</td>\n      <td>Nate Richert</td>\n      <td>870.0</td>\n      <td>Soleil Moon Frye</td>\n      <td>558.0</td>\n      <td>...</td>\n      <td>271.0</td>\n      <td>NaN</td>\n      <td>Comedy|Family|Fantasy</td>\n      <td>20.0</td>\n      <td>24420</td>\n      <td>female protagonist|hereditary gift of witchcra...</td>\n      <td>English</td>\n      <td>USA</td>\n      <td>3000000.0</td>\n      <td>6.6</td>\n    </tr>\n  </tbody>\n</table>\n<p>9 rows × 21 columns</p>\n</div>",
            "text/plain": "                              year  color content_rating  duration  \\\ntitle                                                                \nTangled                     2010.0  Color             PG     100.0   \nShrek the Third             2007.0  Color             PG      93.0   \nX-Men 2                     2003.0  Color          PG-13     134.0   \nCloud Atlas                 2012.0  Color              R     172.0   \nDivergent                   2014.0  Color          PG-13     139.0   \nHidalgo                     2004.0  Color          PG-13     136.0   \nDoom                        2005.0  Color              R     113.0   \nGone Girl                   2014.0  Color              R     149.0   \nSabrina, the Teenage Witch     NaN  Color           TV-G      22.0   \n\n                                 director_name  director_fb  \\\ntitle                                                         \nTangled                           Nathan Greno         15.0   \nShrek the Third                   Chris Miller         50.0   \nX-Men 2                           Bryan Singer          0.0   \nCloud Atlas                         Tom Tykwer        670.0   \nDivergent                          Neil Burger        168.0   \nHidalgo                           Joe Johnston        394.0   \nDoom                        Andrzej Bartkowiak         43.0   \nGone Girl                        David Fincher      21000.0   \nSabrina, the Teenage Witch                 NaN          NaN   \n\n                                       actor1  actor1_fb            actor2  \\\ntitle                                                                        \nTangled                          Brad Garrett      799.0      Donna Murphy   \nShrek the Third             Justin Timberlake     3000.0         Eric Idle   \nX-Men 2                          Hugh Jackman    20000.0     Bruce Davison   \nCloud Atlas                         Tom Hanks    15000.0      Jim Sturgess   \nDivergent                        Kate Winslet    14000.0        Theo James   \nHidalgo                          J.K. Simmons    24000.0   Viggo Mortensen   \nDoom                           Dwayne Johnson    12000.0       Ben Daniels   \nGone Girl                       Patrick Fugit      835.0         Sela Ward   \nSabrina, the Teenage Witch       Nate Richert      870.0  Soleil Moon Frye   \n\n                            actor2_fb     ...     actor3_fb        gross  \\\ntitle                                     ...                              \nTangled                         553.0     ...         284.0  200807262.0   \nShrek the Third                 795.0     ...         692.0  320706665.0   \nX-Men 2                         505.0     ...         346.0  214948780.0   \nCloud Atlas                    5000.0     ...        1000.0   27098580.0   \nDivergent                      5000.0     ...        1000.0  150832203.0   \nHidalgo                       10000.0     ...        1000.0   67286731.0   \nDoom                            585.0     ...         452.0   28031250.0   \nGone Girl                       812.0     ...         625.0  167735396.0   \nSabrina, the Teenage Witch      558.0     ...         271.0          NaN   \n\n                                                                       genres  \\\ntitle                                                                           \nTangled                     Adventure|Animation|Comedy|Family|Fantasy|Musi...   \nShrek the Third                     Adventure|Animation|Comedy|Family|Fantasy   \nX-Men 2                              Action|Adventure|Fantasy|Sci-Fi|Thriller   \nCloud Atlas                                                      Drama|Sci-Fi   \nDivergent                                            Adventure|Mystery|Sci-Fi   \nHidalgo                                              Action|Adventure|Western   \nDoom                                           Action|Adventure|Horror|Sci-Fi   \nGone Girl                                        Crime|Drama|Mystery|Thriller   \nSabrina, the Teenage Witch                              Comedy|Family|Fantasy   \n\n                           num_reviews  num_voted_users  \\\ntitle                                                     \nTangled                          324.0           294810   \nShrek the Third                  227.0           211971   \nX-Men 2                          289.0           405973   \nCloud Atlas                      511.0           284825   \nDivergent                        459.0           341058   \nHidalgo                          140.0            67856   \nDoom                             237.0            88146   \nGone Girl                        568.0           569841   \nSabrina, the Teenage Witch        20.0            24420   \n\n                                                                plot_keywords  \\\ntitle                                                                           \nTangled                     17th century|based on fairy tale|disney|flower...   \nShrek the Third             disney spoof|fairy tale|prince|princess|tough guy   \nX-Men 2                                  mutant|prison|professor|school|x men   \nCloud Atlas                 composer|future|letter|nonlinear timeline|nurs...   \nDivergent                   army|brother sister relationship|dystopia|fath...   \nHidalgo                                          arab|cowboy|horse|race|sheik   \nDoom                        commando unit|extra chromosome|first person sh...   \nGone Girl                   based on novel|disappearance|missing person|mi...   \nSabrina, the Teenage Witch  female protagonist|hereditary gift of witchcra...   \n\n                           language  country       budget  imdb_score  \ntitle                                                                  \nTangled                     English      USA  260000000.0         7.8  \nShrek the Third             English      USA  160000000.0         6.1  \nX-Men 2                     English   Canada  110000000.0         7.5  \nCloud Atlas                 English  Germany  102000000.0         7.5  \nDivergent                   English      USA   85000000.0         6.7  \nHidalgo                     English      USA  100000000.0         6.7  \nDoom                        English       UK   60000000.0         5.2  \nGone Girl                   English      USA   61000000.0         8.1  \nSabrina, the Teenage Witch  English      USA    3000000.0         6.6  \n\n[9 rows x 21 columns]"
          },
          "metadata": {}
        }
      ]
    },
    {
      "metadata": {
        "trusted": true
      },
      "cell_type": "code",
      "source": "",
      "execution_count": null,
      "outputs": []
    },
    {
      "metadata": {
        "trusted": true
      },
      "cell_type": "code",
      "source": "",
      "execution_count": null,
      "outputs": []
    }
  ],
  "metadata": {
    "kernelspec": {
      "name": "python36",
      "display_name": "Python 3.6",
      "language": "python"
    },
    "language_info": {
      "mimetype": "text/x-python",
      "nbconvert_exporter": "python",
      "name": "python",
      "pygments_lexer": "ipython3",
      "version": "3.6.6",
      "file_extension": ".py",
      "codemirror_mode": {
        "version": 3,
        "name": "ipython"
      }
    }
  },
  "nbformat": 4,
  "nbformat_minor": 2
}