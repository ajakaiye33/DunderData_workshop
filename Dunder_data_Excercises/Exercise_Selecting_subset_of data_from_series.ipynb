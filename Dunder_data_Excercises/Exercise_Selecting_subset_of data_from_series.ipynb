{
  "cells": [
    {
      "metadata": {
        "trusted": true
      },
      "cell_type": "code",
      "source": "import pandas as pd\n",
      "execution_count": 2,
      "outputs": []
    },
    {
      "metadata": {
        "trusted": true
      },
      "cell_type": "code",
      "source": "bikes = pd.read_csv('data/bikes.csv')\nbikes.head()",
      "execution_count": 3,
      "outputs": [
        {
          "output_type": "execute_result",
          "execution_count": 3,
          "data": {
            "text/html": "<div>\n<style scoped>\n    .dataframe tbody tr th:only-of-type {\n        vertical-align: middle;\n    }\n\n    .dataframe tbody tr th {\n        vertical-align: top;\n    }\n\n    .dataframe thead th {\n        text-align: right;\n    }\n</style>\n<table border=\"1\" class=\"dataframe\">\n  <thead>\n    <tr style=\"text-align: right;\">\n      <th></th>\n      <th>trip_id</th>\n      <th>usertype</th>\n      <th>gender</th>\n      <th>starttime</th>\n      <th>stoptime</th>\n      <th>tripduration</th>\n      <th>from_station_name</th>\n      <th>latitude_start</th>\n      <th>longitude_start</th>\n      <th>dpcapacity_start</th>\n      <th>to_station_name</th>\n      <th>latitude_end</th>\n      <th>longitude_end</th>\n      <th>dpcapacity_end</th>\n      <th>temperature</th>\n      <th>visibility</th>\n      <th>wind_speed</th>\n      <th>precipitation</th>\n      <th>events</th>\n    </tr>\n  </thead>\n  <tbody>\n    <tr>\n      <th>0</th>\n      <td>7147</td>\n      <td>Subscriber</td>\n      <td>Male</td>\n      <td>2013-06-28 19:01:00</td>\n      <td>2013-06-28 19:17:00</td>\n      <td>993</td>\n      <td>Lake Shore Dr &amp; Monroe St</td>\n      <td>41.881050</td>\n      <td>-87.616970</td>\n      <td>11.0</td>\n      <td>Michigan Ave &amp; Oak St</td>\n      <td>41.900960</td>\n      <td>-87.623777</td>\n      <td>15.0</td>\n      <td>73.9</td>\n      <td>10.0</td>\n      <td>12.7</td>\n      <td>-9999.0</td>\n      <td>mostlycloudy</td>\n    </tr>\n    <tr>\n      <th>1</th>\n      <td>7524</td>\n      <td>Subscriber</td>\n      <td>Male</td>\n      <td>2013-06-28 22:53:00</td>\n      <td>2013-06-28 23:03:00</td>\n      <td>623</td>\n      <td>Clinton St &amp; Washington Blvd</td>\n      <td>41.883380</td>\n      <td>-87.641170</td>\n      <td>31.0</td>\n      <td>Wells St &amp; Walton St</td>\n      <td>41.899930</td>\n      <td>-87.634430</td>\n      <td>19.0</td>\n      <td>69.1</td>\n      <td>10.0</td>\n      <td>6.9</td>\n      <td>-9999.0</td>\n      <td>partlycloudy</td>\n    </tr>\n    <tr>\n      <th>2</th>\n      <td>10927</td>\n      <td>Subscriber</td>\n      <td>Male</td>\n      <td>2013-06-30 14:43:00</td>\n      <td>2013-06-30 15:01:00</td>\n      <td>1040</td>\n      <td>Sheffield Ave &amp; Kingsbury St</td>\n      <td>41.909592</td>\n      <td>-87.653497</td>\n      <td>15.0</td>\n      <td>Dearborn St &amp; Monroe St</td>\n      <td>41.881320</td>\n      <td>-87.629521</td>\n      <td>23.0</td>\n      <td>73.0</td>\n      <td>10.0</td>\n      <td>16.1</td>\n      <td>-9999.0</td>\n      <td>mostlycloudy</td>\n    </tr>\n    <tr>\n      <th>3</th>\n      <td>12907</td>\n      <td>Subscriber</td>\n      <td>Male</td>\n      <td>2013-07-01 10:05:00</td>\n      <td>2013-07-01 10:16:00</td>\n      <td>667</td>\n      <td>Carpenter St &amp; Huron St</td>\n      <td>41.894556</td>\n      <td>-87.653449</td>\n      <td>19.0</td>\n      <td>Clark St &amp; Randolph St</td>\n      <td>41.884576</td>\n      <td>-87.631890</td>\n      <td>31.0</td>\n      <td>72.0</td>\n      <td>10.0</td>\n      <td>16.1</td>\n      <td>-9999.0</td>\n      <td>mostlycloudy</td>\n    </tr>\n    <tr>\n      <th>4</th>\n      <td>13168</td>\n      <td>Subscriber</td>\n      <td>Male</td>\n      <td>2013-07-01 11:16:00</td>\n      <td>2013-07-01 11:18:00</td>\n      <td>130</td>\n      <td>Damen Ave &amp; Pierce Ave</td>\n      <td>41.909396</td>\n      <td>-87.677692</td>\n      <td>19.0</td>\n      <td>Damen Ave &amp; Pierce Ave</td>\n      <td>41.909396</td>\n      <td>-87.677692</td>\n      <td>19.0</td>\n      <td>73.0</td>\n      <td>10.0</td>\n      <td>17.3</td>\n      <td>-9999.0</td>\n      <td>partlycloudy</td>\n    </tr>\n  </tbody>\n</table>\n</div>",
            "text/plain": "   trip_id    usertype gender            starttime             stoptime  \\\n0     7147  Subscriber   Male  2013-06-28 19:01:00  2013-06-28 19:17:00   \n1     7524  Subscriber   Male  2013-06-28 22:53:00  2013-06-28 23:03:00   \n2    10927  Subscriber   Male  2013-06-30 14:43:00  2013-06-30 15:01:00   \n3    12907  Subscriber   Male  2013-07-01 10:05:00  2013-07-01 10:16:00   \n4    13168  Subscriber   Male  2013-07-01 11:16:00  2013-07-01 11:18:00   \n\n   tripduration             from_station_name  latitude_start  \\\n0           993     Lake Shore Dr & Monroe St       41.881050   \n1           623  Clinton St & Washington Blvd       41.883380   \n2          1040  Sheffield Ave & Kingsbury St       41.909592   \n3           667       Carpenter St & Huron St       41.894556   \n4           130        Damen Ave & Pierce Ave       41.909396   \n\n   longitude_start  dpcapacity_start          to_station_name  latitude_end  \\\n0       -87.616970              11.0    Michigan Ave & Oak St     41.900960   \n1       -87.641170              31.0     Wells St & Walton St     41.899930   \n2       -87.653497              15.0  Dearborn St & Monroe St     41.881320   \n3       -87.653449              19.0   Clark St & Randolph St     41.884576   \n4       -87.677692              19.0   Damen Ave & Pierce Ave     41.909396   \n\n   longitude_end  dpcapacity_end  temperature  visibility  wind_speed  \\\n0     -87.623777            15.0         73.9        10.0        12.7   \n1     -87.634430            19.0         69.1        10.0         6.9   \n2     -87.629521            23.0         73.0        10.0        16.1   \n3     -87.631890            31.0         72.0        10.0        16.1   \n4     -87.677692            19.0         73.0        10.0        17.3   \n\n   precipitation        events  \n0        -9999.0  mostlycloudy  \n1        -9999.0  partlycloudy  \n2        -9999.0  mostlycloudy  \n3        -9999.0  mostlycloudy  \n4        -9999.0  partlycloudy  "
          },
          "metadata": {}
        }
      ]
    },
    {
      "metadata": {
        "trusted": true
      },
      "cell_type": "code",
      "source": "wind_speed = bikes['wind_speed']\nwind_speed.head()",
      "execution_count": 4,
      "outputs": [
        {
          "output_type": "execute_result",
          "execution_count": 4,
          "data": {
            "text/plain": "0    12.7\n1     6.9\n2    16.1\n3    16.1\n4    17.3\nName: wind_speed, dtype: float64"
          },
          "metadata": {}
        }
      ]
    },
    {
      "metadata": {
        "trusted": true
      },
      "cell_type": "code",
      "source": "#from the wind speed series, select the integer locations 4 through, but not including 10\nwind_speed.iloc[4:10]",
      "execution_count": 5,
      "outputs": [
        {
          "output_type": "execute_result",
          "execution_count": 5,
          "data": {
            "text/plain": "4    17.3\n5    17.3\n6    15.0\n7     5.8\n8     0.0\n9    12.7\nName: wind_speed, dtype: float64"
          },
          "metadata": {}
        }
      ]
    },
    {
      "metadata": {
        "trusted": true
      },
      "cell_type": "code",
      "source": "wind_speed.loc[4:10] #pandas include the last position",
      "execution_count": 6,
      "outputs": [
        {
          "output_type": "execute_result",
          "execution_count": 6,
          "data": {
            "text/plain": "4     17.3\n5     17.3\n6     15.0\n7      5.8\n8      0.0\n9     12.7\n10     9.2\nName: wind_speed, dtype: float64"
          },
          "metadata": {}
        }
      ]
    },
    {
      "metadata": {
        "trusted": true
      },
      "cell_type": "code",
      "source": "movy4 = pd.read_csv('data/movie.csv', index_col='title')\nmovy4.head()",
      "execution_count": 7,
      "outputs": [
        {
          "output_type": "execute_result",
          "execution_count": 7,
          "data": {
            "text/html": "<div>\n<style scoped>\n    .dataframe tbody tr th:only-of-type {\n        vertical-align: middle;\n    }\n\n    .dataframe tbody tr th {\n        vertical-align: top;\n    }\n\n    .dataframe thead th {\n        text-align: right;\n    }\n</style>\n<table border=\"1\" class=\"dataframe\">\n  <thead>\n    <tr style=\"text-align: right;\">\n      <th></th>\n      <th>year</th>\n      <th>color</th>\n      <th>content_rating</th>\n      <th>duration</th>\n      <th>director_name</th>\n      <th>director_fb</th>\n      <th>actor1</th>\n      <th>actor1_fb</th>\n      <th>actor2</th>\n      <th>actor2_fb</th>\n      <th>...</th>\n      <th>actor3_fb</th>\n      <th>gross</th>\n      <th>genres</th>\n      <th>num_reviews</th>\n      <th>num_voted_users</th>\n      <th>plot_keywords</th>\n      <th>language</th>\n      <th>country</th>\n      <th>budget</th>\n      <th>imdb_score</th>\n    </tr>\n    <tr>\n      <th>title</th>\n      <th></th>\n      <th></th>\n      <th></th>\n      <th></th>\n      <th></th>\n      <th></th>\n      <th></th>\n      <th></th>\n      <th></th>\n      <th></th>\n      <th></th>\n      <th></th>\n      <th></th>\n      <th></th>\n      <th></th>\n      <th></th>\n      <th></th>\n      <th></th>\n      <th></th>\n      <th></th>\n      <th></th>\n    </tr>\n  </thead>\n  <tbody>\n    <tr>\n      <th>Avatar</th>\n      <td>2009.0</td>\n      <td>Color</td>\n      <td>PG-13</td>\n      <td>178.0</td>\n      <td>James Cameron</td>\n      <td>0.0</td>\n      <td>CCH Pounder</td>\n      <td>1000.0</td>\n      <td>Joel David Moore</td>\n      <td>936.0</td>\n      <td>...</td>\n      <td>855.0</td>\n      <td>760505847.0</td>\n      <td>Action|Adventure|Fantasy|Sci-Fi</td>\n      <td>723.0</td>\n      <td>886204</td>\n      <td>avatar|future|marine|native|paraplegic</td>\n      <td>English</td>\n      <td>USA</td>\n      <td>237000000.0</td>\n      <td>7.9</td>\n    </tr>\n    <tr>\n      <th>Pirates of the Caribbean: At World's End</th>\n      <td>2007.0</td>\n      <td>Color</td>\n      <td>PG-13</td>\n      <td>169.0</td>\n      <td>Gore Verbinski</td>\n      <td>563.0</td>\n      <td>Johnny Depp</td>\n      <td>40000.0</td>\n      <td>Orlando Bloom</td>\n      <td>5000.0</td>\n      <td>...</td>\n      <td>1000.0</td>\n      <td>309404152.0</td>\n      <td>Action|Adventure|Fantasy</td>\n      <td>302.0</td>\n      <td>471220</td>\n      <td>goddess|marriage ceremony|marriage proposal|pi...</td>\n      <td>English</td>\n      <td>USA</td>\n      <td>300000000.0</td>\n      <td>7.1</td>\n    </tr>\n    <tr>\n      <th>Spectre</th>\n      <td>2015.0</td>\n      <td>Color</td>\n      <td>PG-13</td>\n      <td>148.0</td>\n      <td>Sam Mendes</td>\n      <td>0.0</td>\n      <td>Christoph Waltz</td>\n      <td>11000.0</td>\n      <td>Rory Kinnear</td>\n      <td>393.0</td>\n      <td>...</td>\n      <td>161.0</td>\n      <td>200074175.0</td>\n      <td>Action|Adventure|Thriller</td>\n      <td>602.0</td>\n      <td>275868</td>\n      <td>bomb|espionage|sequel|spy|terrorist</td>\n      <td>English</td>\n      <td>UK</td>\n      <td>245000000.0</td>\n      <td>6.8</td>\n    </tr>\n    <tr>\n      <th>The Dark Knight Rises</th>\n      <td>2012.0</td>\n      <td>Color</td>\n      <td>PG-13</td>\n      <td>164.0</td>\n      <td>Christopher Nolan</td>\n      <td>22000.0</td>\n      <td>Tom Hardy</td>\n      <td>27000.0</td>\n      <td>Christian Bale</td>\n      <td>23000.0</td>\n      <td>...</td>\n      <td>23000.0</td>\n      <td>448130642.0</td>\n      <td>Action|Thriller</td>\n      <td>813.0</td>\n      <td>1144337</td>\n      <td>deception|imprisonment|lawlessness|police offi...</td>\n      <td>English</td>\n      <td>USA</td>\n      <td>250000000.0</td>\n      <td>8.5</td>\n    </tr>\n    <tr>\n      <th>Star Wars: Episode VII - The Force Awakens</th>\n      <td>NaN</td>\n      <td>NaN</td>\n      <td>NaN</td>\n      <td>NaN</td>\n      <td>Doug Walker</td>\n      <td>131.0</td>\n      <td>Doug Walker</td>\n      <td>131.0</td>\n      <td>Rob Walker</td>\n      <td>12.0</td>\n      <td>...</td>\n      <td>NaN</td>\n      <td>NaN</td>\n      <td>Documentary</td>\n      <td>NaN</td>\n      <td>8</td>\n      <td>NaN</td>\n      <td>NaN</td>\n      <td>NaN</td>\n      <td>NaN</td>\n      <td>7.1</td>\n    </tr>\n  </tbody>\n</table>\n<p>5 rows × 21 columns</p>\n</div>",
            "text/plain": "                                              year  color content_rating  \\\ntitle                                                                      \nAvatar                                      2009.0  Color          PG-13   \nPirates of the Caribbean: At World's End    2007.0  Color          PG-13   \nSpectre                                     2015.0  Color          PG-13   \nThe Dark Knight Rises                       2012.0  Color          PG-13   \nStar Wars: Episode VII - The Force Awakens     NaN    NaN            NaN   \n\n                                            duration      director_name  \\\ntitle                                                                     \nAvatar                                         178.0      James Cameron   \nPirates of the Caribbean: At World's End       169.0     Gore Verbinski   \nSpectre                                        148.0         Sam Mendes   \nThe Dark Knight Rises                          164.0  Christopher Nolan   \nStar Wars: Episode VII - The Force Awakens       NaN        Doug Walker   \n\n                                            director_fb           actor1  \\\ntitle                                                                      \nAvatar                                              0.0      CCH Pounder   \nPirates of the Caribbean: At World's End          563.0      Johnny Depp   \nSpectre                                             0.0  Christoph Waltz   \nThe Dark Knight Rises                           22000.0        Tom Hardy   \nStar Wars: Episode VII - The Force Awakens        131.0      Doug Walker   \n\n                                            actor1_fb            actor2  \\\ntitle                                                                     \nAvatar                                         1000.0  Joel David Moore   \nPirates of the Caribbean: At World's End      40000.0     Orlando Bloom   \nSpectre                                       11000.0      Rory Kinnear   \nThe Dark Knight Rises                         27000.0    Christian Bale   \nStar Wars: Episode VII - The Force Awakens      131.0        Rob Walker   \n\n                                            actor2_fb     ...     actor3_fb  \\\ntitle                                                     ...                 \nAvatar                                          936.0     ...         855.0   \nPirates of the Caribbean: At World's End       5000.0     ...        1000.0   \nSpectre                                         393.0     ...         161.0   \nThe Dark Knight Rises                         23000.0     ...       23000.0   \nStar Wars: Episode VII - The Force Awakens       12.0     ...           NaN   \n\n                                                  gross  \\\ntitle                                                     \nAvatar                                      760505847.0   \nPirates of the Caribbean: At World's End    309404152.0   \nSpectre                                     200074175.0   \nThe Dark Knight Rises                       448130642.0   \nStar Wars: Episode VII - The Force Awakens          NaN   \n\n                                                                     genres  \\\ntitle                                                                         \nAvatar                                      Action|Adventure|Fantasy|Sci-Fi   \nPirates of the Caribbean: At World's End           Action|Adventure|Fantasy   \nSpectre                                           Action|Adventure|Thriller   \nThe Dark Knight Rises                                       Action|Thriller   \nStar Wars: Episode VII - The Force Awakens                      Documentary   \n\n                                           num_reviews  num_voted_users  \\\ntitle                                                                     \nAvatar                                           723.0           886204   \nPirates of the Caribbean: At World's End         302.0           471220   \nSpectre                                          602.0           275868   \nThe Dark Knight Rises                            813.0          1144337   \nStar Wars: Episode VII - The Force Awakens         NaN                8   \n\n                                                                                plot_keywords  \\\ntitle                                                                                           \nAvatar                                                 avatar|future|marine|native|paraplegic   \nPirates of the Caribbean: At World's End    goddess|marriage ceremony|marriage proposal|pi...   \nSpectre                                                   bomb|espionage|sequel|spy|terrorist   \nThe Dark Knight Rises                       deception|imprisonment|lawlessness|police offi...   \nStar Wars: Episode VII - The Force Awakens                                                NaN   \n\n                                           language country       budget  \\\ntitle                                                                      \nAvatar                                      English     USA  237000000.0   \nPirates of the Caribbean: At World's End    English     USA  300000000.0   \nSpectre                                     English      UK  245000000.0   \nThe Dark Knight Rises                       English     USA  250000000.0   \nStar Wars: Episode VII - The Force Awakens      NaN     NaN          NaN   \n\n                                            imdb_score  \ntitle                                                   \nAvatar                                             7.9  \nPirates of the Caribbean: At World's End           7.1  \nSpectre                                            6.8  \nThe Dark Knight Rises                              8.5  \nStar Wars: Episode VII - The Force Awakens         7.1  \n\n[5 rows x 21 columns]"
          },
          "metadata": {}
        }
      ]
    },
    {
      "metadata": {
        "trusted": true
      },
      "cell_type": "code",
      "source": "#select the acto as series. Who is the actor1 for 'My big Fat Greek Wedding'\nactor = movy4['actor1']\nactor.head()",
      "execution_count": 8,
      "outputs": [
        {
          "output_type": "execute_result",
          "execution_count": 8,
          "data": {
            "text/plain": "title\nAvatar                                            CCH Pounder\nPirates of the Caribbean: At World's End          Johnny Depp\nSpectre                                       Christoph Waltz\nThe Dark Knight Rises                               Tom Hardy\nStar Wars: Episode VII - The Force Awakens        Doug Walker\nName: actor1, dtype: object"
          },
          "metadata": {}
        }
      ]
    },
    {
      "metadata": {
        "trusted": true
      },
      "cell_type": "code",
      "source": "actor.loc['My Big Fat Greek Wedding']",
      "execution_count": 9,
      "outputs": [
        {
          "output_type": "execute_result",
          "execution_count": 9,
          "data": {
            "text/plain": "'Nia Vardalos'"
          },
          "metadata": {}
        }
      ]
    },
    {
      "metadata": {
        "trusted": true
      },
      "cell_type": "code",
      "source": "#actor for my favourte movies\nactor.loc['Forrest Gump']",
      "execution_count": 10,
      "outputs": [
        {
          "output_type": "execute_result",
          "execution_count": 10,
          "data": {
            "text/plain": "'Tom Hanks'"
          },
          "metadata": {}
        }
      ]
    },
    {
      "metadata": {
        "trusted": true
      },
      "cell_type": "code",
      "source": "actor.loc['Avatar']",
      "execution_count": 11,
      "outputs": [
        {
          "output_type": "execute_result",
          "execution_count": 11,
          "data": {
            "text/plain": "'CCH Pounder'"
          },
          "metadata": {}
        }
      ]
    },
    {
      "metadata": {
        "trusted": true
      },
      "cell_type": "code",
      "source": "actor.iloc[-3:]",
      "execution_count": 14,
      "outputs": [
        {
          "output_type": "execute_result",
          "execution_count": 14,
          "data": {
            "text/plain": "title\nA Plague So Pleasant    Eva Boehnke\nShanghai Calling          Alan Ruck\nMy Date with Drew       John August\nName: actor1, dtype: object"
          },
          "metadata": {}
        }
      ]
    },
    {
      "metadata": {
        "trusted": true
      },
      "cell_type": "code",
      "source": "",
      "execution_count": null,
      "outputs": []
    }
  ],
  "metadata": {
    "kernelspec": {
      "name": "python36",
      "display_name": "Python 3.6",
      "language": "python"
    },
    "language_info": {
      "mimetype": "text/x-python",
      "nbconvert_exporter": "python",
      "name": "python",
      "pygments_lexer": "ipython3",
      "version": "3.6.6",
      "file_extension": ".py",
      "codemirror_mode": {
        "version": 3,
        "name": "ipython"
      }
    }
  },
  "nbformat": 4,
  "nbformat_minor": 2
}