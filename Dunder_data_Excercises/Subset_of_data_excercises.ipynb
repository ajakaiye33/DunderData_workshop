{
  "cells": [
    {
      "metadata": {
        "trusted": true
      },
      "cell_type": "code",
      "source": "import pandas as pd\n",
      "execution_count": 6,
      "outputs": []
    },
    {
      "metadata": {
        "trusted": true
      },
      "cell_type": "code",
      "source": "movies = pd.read_csv('movie.csv')\nmovies.head()",
      "execution_count": 7,
      "outputs": [
        {
          "output_type": "execute_result",
          "execution_count": 7,
          "data": {
            "text/html": "<div>\n<style scoped>\n    .dataframe tbody tr th:only-of-type {\n        vertical-align: middle;\n    }\n\n    .dataframe tbody tr th {\n        vertical-align: top;\n    }\n\n    .dataframe thead th {\n        text-align: right;\n    }\n</style>\n<table border=\"1\" class=\"dataframe\">\n  <thead>\n    <tr style=\"text-align: right;\">\n      <th></th>\n      <th>title</th>\n      <th>year</th>\n      <th>color</th>\n      <th>content_rating</th>\n      <th>duration</th>\n      <th>director_name</th>\n      <th>director_fb</th>\n      <th>actor1</th>\n      <th>actor1_fb</th>\n      <th>actor2</th>\n      <th>...</th>\n      <th>actor3_fb</th>\n      <th>gross</th>\n      <th>genres</th>\n      <th>num_reviews</th>\n      <th>num_voted_users</th>\n      <th>plot_keywords</th>\n      <th>language</th>\n      <th>country</th>\n      <th>budget</th>\n      <th>imdb_score</th>\n    </tr>\n  </thead>\n  <tbody>\n    <tr>\n      <th>0</th>\n      <td>Avatar</td>\n      <td>2009.0</td>\n      <td>Color</td>\n      <td>PG-13</td>\n      <td>178.0</td>\n      <td>James Cameron</td>\n      <td>0.0</td>\n      <td>CCH Pounder</td>\n      <td>1000.0</td>\n      <td>Joel David Moore</td>\n      <td>...</td>\n      <td>855.0</td>\n      <td>760505847.0</td>\n      <td>Action|Adventure|Fantasy|Sci-Fi</td>\n      <td>723.0</td>\n      <td>886204</td>\n      <td>avatar|future|marine|native|paraplegic</td>\n      <td>English</td>\n      <td>USA</td>\n      <td>237000000.0</td>\n      <td>7.9</td>\n    </tr>\n    <tr>\n      <th>1</th>\n      <td>Pirates of the Caribbean: At World's End</td>\n      <td>2007.0</td>\n      <td>Color</td>\n      <td>PG-13</td>\n      <td>169.0</td>\n      <td>Gore Verbinski</td>\n      <td>563.0</td>\n      <td>Johnny Depp</td>\n      <td>40000.0</td>\n      <td>Orlando Bloom</td>\n      <td>...</td>\n      <td>1000.0</td>\n      <td>309404152.0</td>\n      <td>Action|Adventure|Fantasy</td>\n      <td>302.0</td>\n      <td>471220</td>\n      <td>goddess|marriage ceremony|marriage proposal|pi...</td>\n      <td>English</td>\n      <td>USA</td>\n      <td>300000000.0</td>\n      <td>7.1</td>\n    </tr>\n    <tr>\n      <th>2</th>\n      <td>Spectre</td>\n      <td>2015.0</td>\n      <td>Color</td>\n      <td>PG-13</td>\n      <td>148.0</td>\n      <td>Sam Mendes</td>\n      <td>0.0</td>\n      <td>Christoph Waltz</td>\n      <td>11000.0</td>\n      <td>Rory Kinnear</td>\n      <td>...</td>\n      <td>161.0</td>\n      <td>200074175.0</td>\n      <td>Action|Adventure|Thriller</td>\n      <td>602.0</td>\n      <td>275868</td>\n      <td>bomb|espionage|sequel|spy|terrorist</td>\n      <td>English</td>\n      <td>UK</td>\n      <td>245000000.0</td>\n      <td>6.8</td>\n    </tr>\n    <tr>\n      <th>3</th>\n      <td>The Dark Knight Rises</td>\n      <td>2012.0</td>\n      <td>Color</td>\n      <td>PG-13</td>\n      <td>164.0</td>\n      <td>Christopher Nolan</td>\n      <td>22000.0</td>\n      <td>Tom Hardy</td>\n      <td>27000.0</td>\n      <td>Christian Bale</td>\n      <td>...</td>\n      <td>23000.0</td>\n      <td>448130642.0</td>\n      <td>Action|Thriller</td>\n      <td>813.0</td>\n      <td>1144337</td>\n      <td>deception|imprisonment|lawlessness|police offi...</td>\n      <td>English</td>\n      <td>USA</td>\n      <td>250000000.0</td>\n      <td>8.5</td>\n    </tr>\n    <tr>\n      <th>4</th>\n      <td>Star Wars: Episode VII - The Force Awakens</td>\n      <td>NaN</td>\n      <td>NaN</td>\n      <td>NaN</td>\n      <td>NaN</td>\n      <td>Doug Walker</td>\n      <td>131.0</td>\n      <td>Doug Walker</td>\n      <td>131.0</td>\n      <td>Rob Walker</td>\n      <td>...</td>\n      <td>NaN</td>\n      <td>NaN</td>\n      <td>Documentary</td>\n      <td>NaN</td>\n      <td>8</td>\n      <td>NaN</td>\n      <td>NaN</td>\n      <td>NaN</td>\n      <td>NaN</td>\n      <td>7.1</td>\n    </tr>\n  </tbody>\n</table>\n<p>5 rows × 22 columns</p>\n</div>",
            "text/plain": "                                        title    year  color content_rating  \\\n0                                      Avatar  2009.0  Color          PG-13   \n1    Pirates of the Caribbean: At World's End  2007.0  Color          PG-13   \n2                                     Spectre  2015.0  Color          PG-13   \n3                       The Dark Knight Rises  2012.0  Color          PG-13   \n4  Star Wars: Episode VII - The Force Awakens     NaN    NaN            NaN   \n\n   duration      director_name  director_fb           actor1  actor1_fb  \\\n0     178.0      James Cameron          0.0      CCH Pounder     1000.0   \n1     169.0     Gore Verbinski        563.0      Johnny Depp    40000.0   \n2     148.0         Sam Mendes          0.0  Christoph Waltz    11000.0   \n3     164.0  Christopher Nolan      22000.0        Tom Hardy    27000.0   \n4       NaN        Doug Walker        131.0      Doug Walker      131.0   \n\n             actor2    ...      actor3_fb        gross  \\\n0  Joel David Moore    ...          855.0  760505847.0   \n1     Orlando Bloom    ...         1000.0  309404152.0   \n2      Rory Kinnear    ...          161.0  200074175.0   \n3    Christian Bale    ...        23000.0  448130642.0   \n4        Rob Walker    ...            NaN          NaN   \n\n                            genres  num_reviews num_voted_users  \\\n0  Action|Adventure|Fantasy|Sci-Fi        723.0          886204   \n1         Action|Adventure|Fantasy        302.0          471220   \n2        Action|Adventure|Thriller        602.0          275868   \n3                  Action|Thriller        813.0         1144337   \n4                      Documentary          NaN               8   \n\n                                       plot_keywords  language country  \\\n0             avatar|future|marine|native|paraplegic   English     USA   \n1  goddess|marriage ceremony|marriage proposal|pi...   English     USA   \n2                bomb|espionage|sequel|spy|terrorist   English      UK   \n3  deception|imprisonment|lawlessness|police offi...   English     USA   \n4                                                NaN       NaN     NaN   \n\n        budget imdb_score  \n0  237000000.0        7.9  \n1  300000000.0        7.1  \n2  245000000.0        6.8  \n3  250000000.0        8.5  \n4          NaN        7.1  \n\n[5 rows x 22 columns]"
          },
          "metadata": {}
        }
      ]
    },
    {
      "metadata": {
        "trusted": true
      },
      "cell_type": "code",
      "source": "movies_w_title = movies.set_index('title')\nmovies_w_title.head()",
      "execution_count": 8,
      "outputs": [
        {
          "output_type": "execute_result",
          "execution_count": 8,
          "data": {
            "text/html": "<div>\n<style scoped>\n    .dataframe tbody tr th:only-of-type {\n        vertical-align: middle;\n    }\n\n    .dataframe tbody tr th {\n        vertical-align: top;\n    }\n\n    .dataframe thead th {\n        text-align: right;\n    }\n</style>\n<table border=\"1\" class=\"dataframe\">\n  <thead>\n    <tr style=\"text-align: right;\">\n      <th></th>\n      <th>year</th>\n      <th>color</th>\n      <th>content_rating</th>\n      <th>duration</th>\n      <th>director_name</th>\n      <th>director_fb</th>\n      <th>actor1</th>\n      <th>actor1_fb</th>\n      <th>actor2</th>\n      <th>actor2_fb</th>\n      <th>...</th>\n      <th>actor3_fb</th>\n      <th>gross</th>\n      <th>genres</th>\n      <th>num_reviews</th>\n      <th>num_voted_users</th>\n      <th>plot_keywords</th>\n      <th>language</th>\n      <th>country</th>\n      <th>budget</th>\n      <th>imdb_score</th>\n    </tr>\n    <tr>\n      <th>title</th>\n      <th></th>\n      <th></th>\n      <th></th>\n      <th></th>\n      <th></th>\n      <th></th>\n      <th></th>\n      <th></th>\n      <th></th>\n      <th></th>\n      <th></th>\n      <th></th>\n      <th></th>\n      <th></th>\n      <th></th>\n      <th></th>\n      <th></th>\n      <th></th>\n      <th></th>\n      <th></th>\n      <th></th>\n    </tr>\n  </thead>\n  <tbody>\n    <tr>\n      <th>Avatar</th>\n      <td>2009.0</td>\n      <td>Color</td>\n      <td>PG-13</td>\n      <td>178.0</td>\n      <td>James Cameron</td>\n      <td>0.0</td>\n      <td>CCH Pounder</td>\n      <td>1000.0</td>\n      <td>Joel David Moore</td>\n      <td>936.0</td>\n      <td>...</td>\n      <td>855.0</td>\n      <td>760505847.0</td>\n      <td>Action|Adventure|Fantasy|Sci-Fi</td>\n      <td>723.0</td>\n      <td>886204</td>\n      <td>avatar|future|marine|native|paraplegic</td>\n      <td>English</td>\n      <td>USA</td>\n      <td>237000000.0</td>\n      <td>7.9</td>\n    </tr>\n    <tr>\n      <th>Pirates of the Caribbean: At World's End</th>\n      <td>2007.0</td>\n      <td>Color</td>\n      <td>PG-13</td>\n      <td>169.0</td>\n      <td>Gore Verbinski</td>\n      <td>563.0</td>\n      <td>Johnny Depp</td>\n      <td>40000.0</td>\n      <td>Orlando Bloom</td>\n      <td>5000.0</td>\n      <td>...</td>\n      <td>1000.0</td>\n      <td>309404152.0</td>\n      <td>Action|Adventure|Fantasy</td>\n      <td>302.0</td>\n      <td>471220</td>\n      <td>goddess|marriage ceremony|marriage proposal|pi...</td>\n      <td>English</td>\n      <td>USA</td>\n      <td>300000000.0</td>\n      <td>7.1</td>\n    </tr>\n    <tr>\n      <th>Spectre</th>\n      <td>2015.0</td>\n      <td>Color</td>\n      <td>PG-13</td>\n      <td>148.0</td>\n      <td>Sam Mendes</td>\n      <td>0.0</td>\n      <td>Christoph Waltz</td>\n      <td>11000.0</td>\n      <td>Rory Kinnear</td>\n      <td>393.0</td>\n      <td>...</td>\n      <td>161.0</td>\n      <td>200074175.0</td>\n      <td>Action|Adventure|Thriller</td>\n      <td>602.0</td>\n      <td>275868</td>\n      <td>bomb|espionage|sequel|spy|terrorist</td>\n      <td>English</td>\n      <td>UK</td>\n      <td>245000000.0</td>\n      <td>6.8</td>\n    </tr>\n    <tr>\n      <th>The Dark Knight Rises</th>\n      <td>2012.0</td>\n      <td>Color</td>\n      <td>PG-13</td>\n      <td>164.0</td>\n      <td>Christopher Nolan</td>\n      <td>22000.0</td>\n      <td>Tom Hardy</td>\n      <td>27000.0</td>\n      <td>Christian Bale</td>\n      <td>23000.0</td>\n      <td>...</td>\n      <td>23000.0</td>\n      <td>448130642.0</td>\n      <td>Action|Thriller</td>\n      <td>813.0</td>\n      <td>1144337</td>\n      <td>deception|imprisonment|lawlessness|police offi...</td>\n      <td>English</td>\n      <td>USA</td>\n      <td>250000000.0</td>\n      <td>8.5</td>\n    </tr>\n    <tr>\n      <th>Star Wars: Episode VII - The Force Awakens</th>\n      <td>NaN</td>\n      <td>NaN</td>\n      <td>NaN</td>\n      <td>NaN</td>\n      <td>Doug Walker</td>\n      <td>131.0</td>\n      <td>Doug Walker</td>\n      <td>131.0</td>\n      <td>Rob Walker</td>\n      <td>12.0</td>\n      <td>...</td>\n      <td>NaN</td>\n      <td>NaN</td>\n      <td>Documentary</td>\n      <td>NaN</td>\n      <td>8</td>\n      <td>NaN</td>\n      <td>NaN</td>\n      <td>NaN</td>\n      <td>NaN</td>\n      <td>7.1</td>\n    </tr>\n  </tbody>\n</table>\n<p>5 rows × 21 columns</p>\n</div>",
            "text/plain": "                                              year  color content_rating  \\\ntitle                                                                      \nAvatar                                      2009.0  Color          PG-13   \nPirates of the Caribbean: At World's End    2007.0  Color          PG-13   \nSpectre                                     2015.0  Color          PG-13   \nThe Dark Knight Rises                       2012.0  Color          PG-13   \nStar Wars: Episode VII - The Force Awakens     NaN    NaN            NaN   \n\n                                            duration      director_name  \\\ntitle                                                                     \nAvatar                                         178.0      James Cameron   \nPirates of the Caribbean: At World's End       169.0     Gore Verbinski   \nSpectre                                        148.0         Sam Mendes   \nThe Dark Knight Rises                          164.0  Christopher Nolan   \nStar Wars: Episode VII - The Force Awakens       NaN        Doug Walker   \n\n                                            director_fb           actor1  \\\ntitle                                                                      \nAvatar                                              0.0      CCH Pounder   \nPirates of the Caribbean: At World's End          563.0      Johnny Depp   \nSpectre                                             0.0  Christoph Waltz   \nThe Dark Knight Rises                           22000.0        Tom Hardy   \nStar Wars: Episode VII - The Force Awakens        131.0      Doug Walker   \n\n                                            actor1_fb            actor2  \\\ntitle                                                                     \nAvatar                                         1000.0  Joel David Moore   \nPirates of the Caribbean: At World's End      40000.0     Orlando Bloom   \nSpectre                                       11000.0      Rory Kinnear   \nThe Dark Knight Rises                         27000.0    Christian Bale   \nStar Wars: Episode VII - The Force Awakens      131.0        Rob Walker   \n\n                                            actor2_fb     ...     actor3_fb  \\\ntitle                                                     ...                 \nAvatar                                          936.0     ...         855.0   \nPirates of the Caribbean: At World's End       5000.0     ...        1000.0   \nSpectre                                         393.0     ...         161.0   \nThe Dark Knight Rises                         23000.0     ...       23000.0   \nStar Wars: Episode VII - The Force Awakens       12.0     ...           NaN   \n\n                                                  gross  \\\ntitle                                                     \nAvatar                                      760505847.0   \nPirates of the Caribbean: At World's End    309404152.0   \nSpectre                                     200074175.0   \nThe Dark Knight Rises                       448130642.0   \nStar Wars: Episode VII - The Force Awakens          NaN   \n\n                                                                     genres  \\\ntitle                                                                         \nAvatar                                      Action|Adventure|Fantasy|Sci-Fi   \nPirates of the Caribbean: At World's End           Action|Adventure|Fantasy   \nSpectre                                           Action|Adventure|Thriller   \nThe Dark Knight Rises                                       Action|Thriller   \nStar Wars: Episode VII - The Force Awakens                      Documentary   \n\n                                           num_reviews  num_voted_users  \\\ntitle                                                                     \nAvatar                                           723.0           886204   \nPirates of the Caribbean: At World's End         302.0           471220   \nSpectre                                          602.0           275868   \nThe Dark Knight Rises                            813.0          1144337   \nStar Wars: Episode VII - The Force Awakens         NaN                8   \n\n                                                                                plot_keywords  \\\ntitle                                                                                           \nAvatar                                                 avatar|future|marine|native|paraplegic   \nPirates of the Caribbean: At World's End    goddess|marriage ceremony|marriage proposal|pi...   \nSpectre                                                   bomb|espionage|sequel|spy|terrorist   \nThe Dark Knight Rises                       deception|imprisonment|lawlessness|police offi...   \nStar Wars: Episode VII - The Force Awakens                                                NaN   \n\n                                           language country       budget  \\\ntitle                                                                      \nAvatar                                      English     USA  237000000.0   \nPirates of the Caribbean: At World's End    English     USA  300000000.0   \nSpectre                                     English      UK  245000000.0   \nThe Dark Knight Rises                       English     USA  250000000.0   \nStar Wars: Episode VII - The Force Awakens      NaN     NaN          NaN   \n\n                                            imdb_score  \ntitle                                                   \nAvatar                                             7.9  \nPirates of the Caribbean: At World's End           7.1  \nSpectre                                            6.8  \nThe Dark Knight Rises                              8.5  \nStar Wars: Episode VII - The Force Awakens         7.1  \n\n[5 rows x 21 columns]"
          },
          "metadata": {}
        }
      ]
    },
    {
      "metadata": {
        "trusted": true
      },
      "cell_type": "code",
      "source": "#select the column with th director's name as a series\ndirector_name = movies_w_title['director_name']\ndirector_name.head()",
      "execution_count": 10,
      "outputs": [
        {
          "output_type": "execute_result",
          "execution_count": 10,
          "data": {
            "text/plain": "title\nAvatar                                            James Cameron\nPirates of the Caribbean: At World's End         Gore Verbinski\nSpectre                                              Sam Mendes\nThe Dark Knight Rises                         Christopher Nolan\nStar Wars: Episode VII - The Force Awakens          Doug Walker\nName: director_name, dtype: object"
          },
          "metadata": {}
        }
      ]
    },
    {
      "metadata": {
        "trusted": true
      },
      "cell_type": "code",
      "source": "#select the column with the director's name and number of Facebook likes\ncol = ['director_name', 'director_fb']\ndir_name_facebook_likes = movies_w_title[col]\ndir_name_facebook_likes.head()\n",
      "execution_count": 11,
      "outputs": [
        {
          "output_type": "execute_result",
          "execution_count": 11,
          "data": {
            "text/html": "<div>\n<style scoped>\n    .dataframe tbody tr th:only-of-type {\n        vertical-align: middle;\n    }\n\n    .dataframe tbody tr th {\n        vertical-align: top;\n    }\n\n    .dataframe thead th {\n        text-align: right;\n    }\n</style>\n<table border=\"1\" class=\"dataframe\">\n  <thead>\n    <tr style=\"text-align: right;\">\n      <th></th>\n      <th>director_name</th>\n      <th>director_fb</th>\n    </tr>\n    <tr>\n      <th>title</th>\n      <th></th>\n      <th></th>\n    </tr>\n  </thead>\n  <tbody>\n    <tr>\n      <th>Avatar</th>\n      <td>James Cameron</td>\n      <td>0.0</td>\n    </tr>\n    <tr>\n      <th>Pirates of the Caribbean: At World's End</th>\n      <td>Gore Verbinski</td>\n      <td>563.0</td>\n    </tr>\n    <tr>\n      <th>Spectre</th>\n      <td>Sam Mendes</td>\n      <td>0.0</td>\n    </tr>\n    <tr>\n      <th>The Dark Knight Rises</th>\n      <td>Christopher Nolan</td>\n      <td>22000.0</td>\n    </tr>\n    <tr>\n      <th>Star Wars: Episode VII - The Force Awakens</th>\n      <td>Doug Walker</td>\n      <td>131.0</td>\n    </tr>\n  </tbody>\n</table>\n</div>",
            "text/plain": "                                                director_name  director_fb\ntitle                                                                     \nAvatar                                          James Cameron          0.0\nPirates of the Caribbean: At World's End       Gore Verbinski        563.0\nSpectre                                            Sam Mendes          0.0\nThe Dark Knight Rises                       Christopher Nolan      22000.0\nStar Wars: Episode VII - The Force Awakens        Doug Walker        131.0"
          },
          "metadata": {}
        }
      ]
    },
    {
      "metadata": {
        "trusted": true
      },
      "cell_type": "code",
      "source": "#select a single column as a DataFrame and not series\ndir_name = movies_w_title[['director_name']]\ndir_name.head()",
      "execution_count": 14,
      "outputs": [
        {
          "output_type": "execute_result",
          "execution_count": 14,
          "data": {
            "text/html": "<div>\n<style scoped>\n    .dataframe tbody tr th:only-of-type {\n        vertical-align: middle;\n    }\n\n    .dataframe tbody tr th {\n        vertical-align: top;\n    }\n\n    .dataframe thead th {\n        text-align: right;\n    }\n</style>\n<table border=\"1\" class=\"dataframe\">\n  <thead>\n    <tr style=\"text-align: right;\">\n      <th></th>\n      <th>director_name</th>\n    </tr>\n    <tr>\n      <th>title</th>\n      <th></th>\n    </tr>\n  </thead>\n  <tbody>\n    <tr>\n      <th>Avatar</th>\n      <td>James Cameron</td>\n    </tr>\n    <tr>\n      <th>Pirates of the Caribbean: At World's End</th>\n      <td>Gore Verbinski</td>\n    </tr>\n    <tr>\n      <th>Spectre</th>\n      <td>Sam Mendes</td>\n    </tr>\n    <tr>\n      <th>The Dark Knight Rises</th>\n      <td>Christopher Nolan</td>\n    </tr>\n    <tr>\n      <th>Star Wars: Episode VII - The Force Awakens</th>\n      <td>Doug Walker</td>\n    </tr>\n  </tbody>\n</table>\n</div>",
            "text/plain": "                                                director_name\ntitle                                                        \nAvatar                                          James Cameron\nPirates of the Caribbean: At World's End       Gore Verbinski\nSpectre                                            Sam Mendes\nThe Dark Knight Rises                       Christopher Nolan\nStar Wars: Episode VII - The Force Awakens        Doug Walker"
          },
          "metadata": {}
        }
      ]
    },
    {
      "metadata": {
        "trusted": true
      },
      "cell_type": "code",
      "source": "",
      "execution_count": null,
      "outputs": []
    },
    {
      "metadata": {
        "trusted": true
      },
      "cell_type": "code",
      "source": "",
      "execution_count": null,
      "outputs": []
    }
  ],
  "metadata": {
    "kernelspec": {
      "name": "python36",
      "display_name": "Python 3.6",
      "language": "python"
    },
    "language_info": {
      "mimetype": "text/x-python",
      "nbconvert_exporter": "python",
      "name": "python",
      "pygments_lexer": "ipython3",
      "version": "3.6.6",
      "file_extension": ".py",
      "codemirror_mode": {
        "version": 3,
        "name": "ipython"
      }
    }
  },
  "nbformat": 4,
  "nbformat_minor": 2
}