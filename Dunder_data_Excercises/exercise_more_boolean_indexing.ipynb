{
  "cells": [
    {
      "metadata": {
        "trusted": true
      },
      "cell_type": "code",
      "source": "#import necessary packages\nimport pandas as pd",
      "execution_count": 1,
      "outputs": []
    },
    {
      "metadata": {
        "trusted": true
      },
      "cell_type": "code",
      "source": "#read in the movie data set\nmovie = pd.read_csv('data/movie.csv', index_col='title')\n",
      "execution_count": 2,
      "outputs": []
    },
    {
      "metadata": {
        "trusted": true
      },
      "cell_type": "code",
      "source": "movie.head()\n",
      "execution_count": 3,
      "outputs": [
        {
          "output_type": "execute_result",
          "execution_count": 3,
          "data": {
            "text/html": "<div>\n<style scoped>\n    .dataframe tbody tr th:only-of-type {\n        vertical-align: middle;\n    }\n\n    .dataframe tbody tr th {\n        vertical-align: top;\n    }\n\n    .dataframe thead th {\n        text-align: right;\n    }\n</style>\n<table border=\"1\" class=\"dataframe\">\n  <thead>\n    <tr style=\"text-align: right;\">\n      <th></th>\n      <th>year</th>\n      <th>color</th>\n      <th>content_rating</th>\n      <th>duration</th>\n      <th>director_name</th>\n      <th>director_fb</th>\n      <th>actor1</th>\n      <th>actor1_fb</th>\n      <th>actor2</th>\n      <th>actor2_fb</th>\n      <th>...</th>\n      <th>actor3_fb</th>\n      <th>gross</th>\n      <th>genres</th>\n      <th>num_reviews</th>\n      <th>num_voted_users</th>\n      <th>plot_keywords</th>\n      <th>language</th>\n      <th>country</th>\n      <th>budget</th>\n      <th>imdb_score</th>\n    </tr>\n    <tr>\n      <th>title</th>\n      <th></th>\n      <th></th>\n      <th></th>\n      <th></th>\n      <th></th>\n      <th></th>\n      <th></th>\n      <th></th>\n      <th></th>\n      <th></th>\n      <th></th>\n      <th></th>\n      <th></th>\n      <th></th>\n      <th></th>\n      <th></th>\n      <th></th>\n      <th></th>\n      <th></th>\n      <th></th>\n      <th></th>\n    </tr>\n  </thead>\n  <tbody>\n    <tr>\n      <th>Avatar</th>\n      <td>2009.0</td>\n      <td>Color</td>\n      <td>PG-13</td>\n      <td>178.0</td>\n      <td>James Cameron</td>\n      <td>0.0</td>\n      <td>CCH Pounder</td>\n      <td>1000.0</td>\n      <td>Joel David Moore</td>\n      <td>936.0</td>\n      <td>...</td>\n      <td>855.0</td>\n      <td>760505847.0</td>\n      <td>Action|Adventure|Fantasy|Sci-Fi</td>\n      <td>723.0</td>\n      <td>886204</td>\n      <td>avatar|future|marine|native|paraplegic</td>\n      <td>English</td>\n      <td>USA</td>\n      <td>237000000.0</td>\n      <td>7.9</td>\n    </tr>\n    <tr>\n      <th>Pirates of the Caribbean: At World's End</th>\n      <td>2007.0</td>\n      <td>Color</td>\n      <td>PG-13</td>\n      <td>169.0</td>\n      <td>Gore Verbinski</td>\n      <td>563.0</td>\n      <td>Johnny Depp</td>\n      <td>40000.0</td>\n      <td>Orlando Bloom</td>\n      <td>5000.0</td>\n      <td>...</td>\n      <td>1000.0</td>\n      <td>309404152.0</td>\n      <td>Action|Adventure|Fantasy</td>\n      <td>302.0</td>\n      <td>471220</td>\n      <td>goddess|marriage ceremony|marriage proposal|pi...</td>\n      <td>English</td>\n      <td>USA</td>\n      <td>300000000.0</td>\n      <td>7.1</td>\n    </tr>\n    <tr>\n      <th>Spectre</th>\n      <td>2015.0</td>\n      <td>Color</td>\n      <td>PG-13</td>\n      <td>148.0</td>\n      <td>Sam Mendes</td>\n      <td>0.0</td>\n      <td>Christoph Waltz</td>\n      <td>11000.0</td>\n      <td>Rory Kinnear</td>\n      <td>393.0</td>\n      <td>...</td>\n      <td>161.0</td>\n      <td>200074175.0</td>\n      <td>Action|Adventure|Thriller</td>\n      <td>602.0</td>\n      <td>275868</td>\n      <td>bomb|espionage|sequel|spy|terrorist</td>\n      <td>English</td>\n      <td>UK</td>\n      <td>245000000.0</td>\n      <td>6.8</td>\n    </tr>\n    <tr>\n      <th>The Dark Knight Rises</th>\n      <td>2012.0</td>\n      <td>Color</td>\n      <td>PG-13</td>\n      <td>164.0</td>\n      <td>Christopher Nolan</td>\n      <td>22000.0</td>\n      <td>Tom Hardy</td>\n      <td>27000.0</td>\n      <td>Christian Bale</td>\n      <td>23000.0</td>\n      <td>...</td>\n      <td>23000.0</td>\n      <td>448130642.0</td>\n      <td>Action|Thriller</td>\n      <td>813.0</td>\n      <td>1144337</td>\n      <td>deception|imprisonment|lawlessness|police offi...</td>\n      <td>English</td>\n      <td>USA</td>\n      <td>250000000.0</td>\n      <td>8.5</td>\n    </tr>\n    <tr>\n      <th>Star Wars: Episode VII - The Force Awakens</th>\n      <td>NaN</td>\n      <td>NaN</td>\n      <td>NaN</td>\n      <td>NaN</td>\n      <td>Doug Walker</td>\n      <td>131.0</td>\n      <td>Doug Walker</td>\n      <td>131.0</td>\n      <td>Rob Walker</td>\n      <td>12.0</td>\n      <td>...</td>\n      <td>NaN</td>\n      <td>NaN</td>\n      <td>Documentary</td>\n      <td>NaN</td>\n      <td>8</td>\n      <td>NaN</td>\n      <td>NaN</td>\n      <td>NaN</td>\n      <td>NaN</td>\n      <td>7.1</td>\n    </tr>\n  </tbody>\n</table>\n<p>5 rows × 21 columns</p>\n</div>",
            "text/plain": "                                              year  color content_rating  \\\ntitle                                                                      \nAvatar                                      2009.0  Color          PG-13   \nPirates of the Caribbean: At World's End    2007.0  Color          PG-13   \nSpectre                                     2015.0  Color          PG-13   \nThe Dark Knight Rises                       2012.0  Color          PG-13   \nStar Wars: Episode VII - The Force Awakens     NaN    NaN            NaN   \n\n                                            duration      director_name  \\\ntitle                                                                     \nAvatar                                         178.0      James Cameron   \nPirates of the Caribbean: At World's End       169.0     Gore Verbinski   \nSpectre                                        148.0         Sam Mendes   \nThe Dark Knight Rises                          164.0  Christopher Nolan   \nStar Wars: Episode VII - The Force Awakens       NaN        Doug Walker   \n\n                                            director_fb           actor1  \\\ntitle                                                                      \nAvatar                                              0.0      CCH Pounder   \nPirates of the Caribbean: At World's End          563.0      Johnny Depp   \nSpectre                                             0.0  Christoph Waltz   \nThe Dark Knight Rises                           22000.0        Tom Hardy   \nStar Wars: Episode VII - The Force Awakens        131.0      Doug Walker   \n\n                                            actor1_fb            actor2  \\\ntitle                                                                     \nAvatar                                         1000.0  Joel David Moore   \nPirates of the Caribbean: At World's End      40000.0     Orlando Bloom   \nSpectre                                       11000.0      Rory Kinnear   \nThe Dark Knight Rises                         27000.0    Christian Bale   \nStar Wars: Episode VII - The Force Awakens      131.0        Rob Walker   \n\n                                            actor2_fb     ...     actor3_fb  \\\ntitle                                                     ...                 \nAvatar                                          936.0     ...         855.0   \nPirates of the Caribbean: At World's End       5000.0     ...        1000.0   \nSpectre                                         393.0     ...         161.0   \nThe Dark Knight Rises                         23000.0     ...       23000.0   \nStar Wars: Episode VII - The Force Awakens       12.0     ...           NaN   \n\n                                                  gross  \\\ntitle                                                     \nAvatar                                      760505847.0   \nPirates of the Caribbean: At World's End    309404152.0   \nSpectre                                     200074175.0   \nThe Dark Knight Rises                       448130642.0   \nStar Wars: Episode VII - The Force Awakens          NaN   \n\n                                                                     genres  \\\ntitle                                                                         \nAvatar                                      Action|Adventure|Fantasy|Sci-Fi   \nPirates of the Caribbean: At World's End           Action|Adventure|Fantasy   \nSpectre                                           Action|Adventure|Thriller   \nThe Dark Knight Rises                                       Action|Thriller   \nStar Wars: Episode VII - The Force Awakens                      Documentary   \n\n                                           num_reviews  num_voted_users  \\\ntitle                                                                     \nAvatar                                           723.0           886204   \nPirates of the Caribbean: At World's End         302.0           471220   \nSpectre                                          602.0           275868   \nThe Dark Knight Rises                            813.0          1144337   \nStar Wars: Episode VII - The Force Awakens         NaN                8   \n\n                                                                                plot_keywords  \\\ntitle                                                                                           \nAvatar                                                 avatar|future|marine|native|paraplegic   \nPirates of the Caribbean: At World's End    goddess|marriage ceremony|marriage proposal|pi...   \nSpectre                                                   bomb|espionage|sequel|spy|terrorist   \nThe Dark Knight Rises                       deception|imprisonment|lawlessness|police offi...   \nStar Wars: Episode VII - The Force Awakens                                                NaN   \n\n                                           language country       budget  \\\ntitle                                                                      \nAvatar                                      English     USA  237000000.0   \nPirates of the Caribbean: At World's End    English     USA  300000000.0   \nSpectre                                     English      UK  245000000.0   \nThe Dark Knight Rises                       English     USA  250000000.0   \nStar Wars: Episode VII - The Force Awakens      NaN     NaN          NaN   \n\n                                            imdb_score  \ntitle                                                   \nAvatar                                             7.9  \nPirates of the Caribbean: At World's End           7.1  \nSpectre                                            6.8  \nThe Dark Knight Rises                              8.5  \nStar Wars: Episode VII - The Force Awakens         7.1  \n\n[5 rows x 21 columns]"
          },
          "metadata": {}
        }
      ]
    },
    {
      "metadata": {
        "trusted": true
      },
      "cell_type": "code",
      "source": "# select all the movies such that the Facebook likes for actor2 are greater than those for actor1\nfilt = movie['actor2_fb'] > movie['actor1_fb']\nmovie[filt]",
      "execution_count": 4,
      "outputs": [
        {
          "output_type": "execute_result",
          "execution_count": 4,
          "data": {
            "text/html": "<div>\n<style scoped>\n    .dataframe tbody tr th:only-of-type {\n        vertical-align: middle;\n    }\n\n    .dataframe tbody tr th {\n        vertical-align: top;\n    }\n\n    .dataframe thead th {\n        text-align: right;\n    }\n</style>\n<table border=\"1\" class=\"dataframe\">\n  <thead>\n    <tr style=\"text-align: right;\">\n      <th></th>\n      <th>year</th>\n      <th>color</th>\n      <th>content_rating</th>\n      <th>duration</th>\n      <th>director_name</th>\n      <th>director_fb</th>\n      <th>actor1</th>\n      <th>actor1_fb</th>\n      <th>actor2</th>\n      <th>actor2_fb</th>\n      <th>...</th>\n      <th>actor3_fb</th>\n      <th>gross</th>\n      <th>genres</th>\n      <th>num_reviews</th>\n      <th>num_voted_users</th>\n      <th>plot_keywords</th>\n      <th>language</th>\n      <th>country</th>\n      <th>budget</th>\n      <th>imdb_score</th>\n    </tr>\n    <tr>\n      <th>title</th>\n      <th></th>\n      <th></th>\n      <th></th>\n      <th></th>\n      <th></th>\n      <th></th>\n      <th></th>\n      <th></th>\n      <th></th>\n      <th></th>\n      <th></th>\n      <th></th>\n      <th></th>\n      <th></th>\n      <th></th>\n      <th></th>\n      <th></th>\n      <th></th>\n      <th></th>\n      <th></th>\n      <th></th>\n    </tr>\n  </thead>\n  <tbody>\n  </tbody>\n</table>\n<p>0 rows × 21 columns</p>\n</div>",
            "text/plain": "Empty DataFrame\nColumns: [year, color, content_rating, duration, director_name, director_fb, actor1, actor1_fb, actor2, actor2_fb, actor3, actor3_fb, gross, genres, num_reviews, num_voted_users, plot_keywords, language, country, budget, imdb_score]\nIndex: []\n\n[0 rows x 21 columns]"
          },
          "metadata": {}
        }
      ]
    },
    {
      "metadata": {
        "trusted": true
      },
      "cell_type": "code",
      "source": "#select the year, content rating, and IMDB score columns for movies ffrom the year 2016 with IMDB score less than 4\nmore_than4_imdb_score = movie['imdb_score'] > 4\nyear_2016 = movie['year'] == 2016\nfilt = more_than4_imdb_score & year_2016\ncol = ['year', 'content_rating', 'imdb_score']\nmovie.loc[filt, col].head()",
      "execution_count": 5,
      "outputs": [
        {
          "output_type": "execute_result",
          "execution_count": 5,
          "data": {
            "text/html": "<div>\n<style scoped>\n    .dataframe tbody tr th:only-of-type {\n        vertical-align: middle;\n    }\n\n    .dataframe tbody tr th {\n        vertical-align: top;\n    }\n\n    .dataframe thead th {\n        text-align: right;\n    }\n</style>\n<table border=\"1\" class=\"dataframe\">\n  <thead>\n    <tr style=\"text-align: right;\">\n      <th></th>\n      <th>year</th>\n      <th>content_rating</th>\n      <th>imdb_score</th>\n    </tr>\n    <tr>\n      <th>title</th>\n      <th></th>\n      <th></th>\n      <th></th>\n    </tr>\n  </thead>\n  <tbody>\n    <tr>\n      <th>Batman v Superman: Dawn of Justice</th>\n      <td>2016.0</td>\n      <td>PG-13</td>\n      <td>6.9</td>\n    </tr>\n    <tr>\n      <th>Captain America: Civil War</th>\n      <td>2016.0</td>\n      <td>PG-13</td>\n      <td>8.2</td>\n    </tr>\n    <tr>\n      <th>Star Trek Beyond</th>\n      <td>2016.0</td>\n      <td>PG-13</td>\n      <td>7.5</td>\n    </tr>\n    <tr>\n      <th>The Legend of Tarzan</th>\n      <td>2016.0</td>\n      <td>PG-13</td>\n      <td>6.6</td>\n    </tr>\n    <tr>\n      <th>X-Men: Apocalypse</th>\n      <td>2016.0</td>\n      <td>PG-13</td>\n      <td>7.3</td>\n    </tr>\n  </tbody>\n</table>\n</div>",
            "text/plain": "                                      year content_rating  imdb_score\ntitle                                                                \nBatman v Superman: Dawn of Justice  2016.0          PG-13         6.9\nCaptain America: Civil War          2016.0          PG-13         8.2\nStar Trek Beyond                    2016.0          PG-13         7.5\nThe Legend of Tarzan                2016.0          PG-13         6.6\nX-Men: Apocalypse                   2016.0          PG-13         7.3"
          },
          "metadata": {}
        }
      ]
    },
    {
      "metadata": {
        "trusted": true
      },
      "cell_type": "code",
      "source": "#select all the movies that are missing values for content rating\nmissing_cont_rate = movie['content_rating'].isna()\nmovie[missing_cont_rate].head()",
      "execution_count": 6,
      "outputs": [
        {
          "output_type": "execute_result",
          "execution_count": 6,
          "data": {
            "text/html": "<div>\n<style scoped>\n    .dataframe tbody tr th:only-of-type {\n        vertical-align: middle;\n    }\n\n    .dataframe tbody tr th {\n        vertical-align: top;\n    }\n\n    .dataframe thead th {\n        text-align: right;\n    }\n</style>\n<table border=\"1\" class=\"dataframe\">\n  <thead>\n    <tr style=\"text-align: right;\">\n      <th></th>\n      <th>year</th>\n      <th>color</th>\n      <th>content_rating</th>\n      <th>duration</th>\n      <th>director_name</th>\n      <th>director_fb</th>\n      <th>actor1</th>\n      <th>actor1_fb</th>\n      <th>actor2</th>\n      <th>actor2_fb</th>\n      <th>...</th>\n      <th>actor3_fb</th>\n      <th>gross</th>\n      <th>genres</th>\n      <th>num_reviews</th>\n      <th>num_voted_users</th>\n      <th>plot_keywords</th>\n      <th>language</th>\n      <th>country</th>\n      <th>budget</th>\n      <th>imdb_score</th>\n    </tr>\n    <tr>\n      <th>title</th>\n      <th></th>\n      <th></th>\n      <th></th>\n      <th></th>\n      <th></th>\n      <th></th>\n      <th></th>\n      <th></th>\n      <th></th>\n      <th></th>\n      <th></th>\n      <th></th>\n      <th></th>\n      <th></th>\n      <th></th>\n      <th></th>\n      <th></th>\n      <th></th>\n      <th></th>\n      <th></th>\n      <th></th>\n    </tr>\n  </thead>\n  <tbody>\n    <tr>\n      <th>Star Wars: Episode VII - The Force Awakens</th>\n      <td>NaN</td>\n      <td>NaN</td>\n      <td>NaN</td>\n      <td>NaN</td>\n      <td>Doug Walker</td>\n      <td>131.0</td>\n      <td>Doug Walker</td>\n      <td>131.0</td>\n      <td>Rob Walker</td>\n      <td>12.0</td>\n      <td>...</td>\n      <td>NaN</td>\n      <td>NaN</td>\n      <td>Documentary</td>\n      <td>NaN</td>\n      <td>8</td>\n      <td>NaN</td>\n      <td>NaN</td>\n      <td>NaN</td>\n      <td>NaN</td>\n      <td>7.1</td>\n    </tr>\n    <tr>\n      <th>Godzilla Resurgence</th>\n      <td>2016.0</td>\n      <td>Color</td>\n      <td>NaN</td>\n      <td>120.0</td>\n      <td>Hideaki Anno</td>\n      <td>28.0</td>\n      <td>Mark Chinnery</td>\n      <td>544.0</td>\n      <td>Shin'ya Tsukamoto</td>\n      <td>106.0</td>\n      <td>...</td>\n      <td>12.0</td>\n      <td>NaN</td>\n      <td>Action|Adventure|Drama|Horror|Sci-Fi</td>\n      <td>1.0</td>\n      <td>374</td>\n      <td>blood|godzilla|monster|sequel</td>\n      <td>Japanese</td>\n      <td>Japan</td>\n      <td>NaN</td>\n      <td>8.2</td>\n    </tr>\n    <tr>\n      <th>Harry Potter and the Deathly Hallows: Part II</th>\n      <td>2011.0</td>\n      <td>Color</td>\n      <td>NaN</td>\n      <td>NaN</td>\n      <td>Matt Birch</td>\n      <td>0.0</td>\n      <td>Rupert Grint</td>\n      <td>10000.0</td>\n      <td>Dave Legeno</td>\n      <td>570.0</td>\n      <td>...</td>\n      <td>159.0</td>\n      <td>NaN</td>\n      <td>Action|Fantasy</td>\n      <td>1.0</td>\n      <td>381</td>\n      <td>NaN</td>\n      <td>English</td>\n      <td>UK</td>\n      <td>NaN</td>\n      <td>7.5</td>\n    </tr>\n    <tr>\n      <th>Harry Potter and the Deathly Hallows: Part I</th>\n      <td>2010.0</td>\n      <td>Color</td>\n      <td>NaN</td>\n      <td>NaN</td>\n      <td>Matt Birch</td>\n      <td>0.0</td>\n      <td>Rupert Grint</td>\n      <td>10000.0</td>\n      <td>Toby Jones</td>\n      <td>2000.0</td>\n      <td>...</td>\n      <td>1000.0</td>\n      <td>NaN</td>\n      <td>Fantasy</td>\n      <td>4.0</td>\n      <td>252</td>\n      <td>NaN</td>\n      <td>English</td>\n      <td>UK</td>\n      <td>NaN</td>\n      <td>6.4</td>\n    </tr>\n    <tr>\n      <th>Asterix at the Olympic Games</th>\n      <td>2008.0</td>\n      <td>Color</td>\n      <td>NaN</td>\n      <td>116.0</td>\n      <td>Frédéric Forestier</td>\n      <td>0.0</td>\n      <td>Alain Delon</td>\n      <td>936.0</td>\n      <td>Santiago Segura</td>\n      <td>276.0</td>\n      <td>...</td>\n      <td>141.0</td>\n      <td>NaN</td>\n      <td>Adventure|Comedy|Family|Fantasy</td>\n      <td>33.0</td>\n      <td>20567</td>\n      <td>1st century b.c.|lightsaber|local blockbuster|...</td>\n      <td>French</td>\n      <td>France</td>\n      <td>78000000.0</td>\n      <td>5.1</td>\n    </tr>\n  </tbody>\n</table>\n<p>5 rows × 21 columns</p>\n</div>",
            "text/plain": "                                                 year  color content_rating  \\\ntitle                                                                         \nStar Wars: Episode VII - The Force Awakens        NaN    NaN            NaN   \nGodzilla Resurgence                            2016.0  Color            NaN   \nHarry Potter and the Deathly Hallows: Part II  2011.0  Color            NaN   \nHarry Potter and the Deathly Hallows: Part I   2010.0  Color            NaN   \nAsterix at the Olympic Games                   2008.0  Color            NaN   \n\n                                               duration       director_name  \\\ntitle                                                                         \nStar Wars: Episode VII - The Force Awakens          NaN         Doug Walker   \nGodzilla Resurgence                               120.0        Hideaki Anno   \nHarry Potter and the Deathly Hallows: Part II       NaN          Matt Birch   \nHarry Potter and the Deathly Hallows: Part I        NaN          Matt Birch   \nAsterix at the Olympic Games                      116.0  Frédéric Forestier   \n\n                                               director_fb         actor1  \\\ntitle                                                                       \nStar Wars: Episode VII - The Force Awakens           131.0    Doug Walker   \nGodzilla Resurgence                                   28.0  Mark Chinnery   \nHarry Potter and the Deathly Hallows: Part II          0.0   Rupert Grint   \nHarry Potter and the Deathly Hallows: Part I           0.0   Rupert Grint   \nAsterix at the Olympic Games                           0.0    Alain Delon   \n\n                                               actor1_fb             actor2  \\\ntitle                                                                         \nStar Wars: Episode VII - The Force Awakens         131.0         Rob Walker   \nGodzilla Resurgence                                544.0  Shin'ya Tsukamoto   \nHarry Potter and the Deathly Hallows: Part II    10000.0        Dave Legeno   \nHarry Potter and the Deathly Hallows: Part I     10000.0         Toby Jones   \nAsterix at the Olympic Games                       936.0    Santiago Segura   \n\n                                               actor2_fb     ...      \\\ntitle                                                        ...       \nStar Wars: Episode VII - The Force Awakens          12.0     ...       \nGodzilla Resurgence                                106.0     ...       \nHarry Potter and the Deathly Hallows: Part II      570.0     ...       \nHarry Potter and the Deathly Hallows: Part I      2000.0     ...       \nAsterix at the Olympic Games                       276.0     ...       \n\n                                              actor3_fb  gross  \\\ntitle                                                            \nStar Wars: Episode VII - The Force Awakens          NaN    NaN   \nGodzilla Resurgence                                12.0    NaN   \nHarry Potter and the Deathly Hallows: Part II     159.0    NaN   \nHarry Potter and the Deathly Hallows: Part I     1000.0    NaN   \nAsterix at the Olympic Games                      141.0    NaN   \n\n                                                                             genres  \\\ntitle                                                                                 \nStar Wars: Episode VII - The Force Awakens                              Documentary   \nGodzilla Resurgence                            Action|Adventure|Drama|Horror|Sci-Fi   \nHarry Potter and the Deathly Hallows: Part II                        Action|Fantasy   \nHarry Potter and the Deathly Hallows: Part I                                Fantasy   \nAsterix at the Olympic Games                        Adventure|Comedy|Family|Fantasy   \n\n                                              num_reviews  num_voted_users  \\\ntitle                                                                        \nStar Wars: Episode VII - The Force Awakens            NaN                8   \nGodzilla Resurgence                                   1.0              374   \nHarry Potter and the Deathly Hallows: Part II         1.0              381   \nHarry Potter and the Deathly Hallows: Part I          4.0              252   \nAsterix at the Olympic Games                         33.0            20567   \n\n                                                                                   plot_keywords  \\\ntitle                                                                                              \nStar Wars: Episode VII - The Force Awakens                                                   NaN   \nGodzilla Resurgence                                                blood|godzilla|monster|sequel   \nHarry Potter and the Deathly Hallows: Part II                                                NaN   \nHarry Potter and the Deathly Hallows: Part I                                                 NaN   \nAsterix at the Olympic Games                   1st century b.c.|lightsaber|local blockbuster|...   \n\n                                               language country      budget  \\\ntitle                                                                         \nStar Wars: Episode VII - The Force Awakens          NaN     NaN         NaN   \nGodzilla Resurgence                            Japanese   Japan         NaN   \nHarry Potter and the Deathly Hallows: Part II   English      UK         NaN   \nHarry Potter and the Deathly Hallows: Part I    English      UK         NaN   \nAsterix at the Olympic Games                     French  France  78000000.0   \n\n                                               imdb_score  \ntitle                                                      \nStar Wars: Episode VII - The Force Awakens            7.1  \nGodzilla Resurgence                                   8.2  \nHarry Potter and the Deathly Hallows: Part II         7.5  \nHarry Potter and the Deathly Hallows: Part I          6.4  \nAsterix at the Olympic Games                          5.1  \n\n[5 rows x 21 columns]"
          },
          "metadata": {}
        }
      ]
    },
    {
      "metadata": {
        "trusted": true
      },
      "cell_type": "code",
      "source": "#select all the movies that are missing values for both the gross and budget columns Return just those columns to verify that\n#those values are indeed missing\nmissing_gross = movie['gross'].isna() \nmissing_budget = movie['budget'].isna()\nfilt = missing_gross & missing_budget\nmovie.loc[filt,['gross', 'budget']].head()",
      "execution_count": 7,
      "outputs": [
        {
          "output_type": "execute_result",
          "execution_count": 7,
          "data": {
            "text/html": "<div>\n<style scoped>\n    .dataframe tbody tr th:only-of-type {\n        vertical-align: middle;\n    }\n\n    .dataframe tbody tr th {\n        vertical-align: top;\n    }\n\n    .dataframe thead th {\n        text-align: right;\n    }\n</style>\n<table border=\"1\" class=\"dataframe\">\n  <thead>\n    <tr style=\"text-align: right;\">\n      <th></th>\n      <th>gross</th>\n      <th>budget</th>\n    </tr>\n    <tr>\n      <th>title</th>\n      <th></th>\n      <th></th>\n    </tr>\n  </thead>\n  <tbody>\n    <tr>\n      <th>Star Wars: Episode VII - The Force Awakens</th>\n      <td>NaN</td>\n      <td>NaN</td>\n    </tr>\n    <tr>\n      <th>The Lovers</th>\n      <td>NaN</td>\n      <td>NaN</td>\n    </tr>\n    <tr>\n      <th>Godzilla Resurgence</th>\n      <td>NaN</td>\n      <td>NaN</td>\n    </tr>\n    <tr>\n      <th>Harry Potter and the Deathly Hallows: Part II</th>\n      <td>NaN</td>\n      <td>NaN</td>\n    </tr>\n    <tr>\n      <th>Harry Potter and the Deathly Hallows: Part I</th>\n      <td>NaN</td>\n      <td>NaN</td>\n    </tr>\n  </tbody>\n</table>\n</div>",
            "text/plain": "                                               gross  budget\ntitle                                                       \nStar Wars: Episode VII - The Force Awakens       NaN     NaN\nThe Lovers                                       NaN     NaN\nGodzilla Resurgence                              NaN     NaN\nHarry Potter and the Deathly Hallows: Part II    NaN     NaN\nHarry Potter and the Deathly Hallows: Part I     NaN     NaN"
          },
          "metadata": {}
        }
      ]
    },
    {
      "metadata": {
        "trusted": true
      },
      "cell_type": "code",
      "source": "#write a function, find_missing, that has three parameters df, col1, col2 where df is a Dataframe and col1 and\n#col2 are columns names. This function should return all the rows of the dataframe where col1 and col2 are missing.\n#Only return the two columns as well. Answer problem seven with this function\n\ndef find_missing(df,col1,col2):\n    cols = [col1, col2]\n    row = df[col1].isna() & df[col2].isna()\n    return df.loc[row, cols].head()\nfind_missing(movie, 'gross', 'budget')",
      "execution_count": 9,
      "outputs": [
        {
          "output_type": "execute_result",
          "execution_count": 9,
          "data": {
            "text/html": "<div>\n<style scoped>\n    .dataframe tbody tr th:only-of-type {\n        vertical-align: middle;\n    }\n\n    .dataframe tbody tr th {\n        vertical-align: top;\n    }\n\n    .dataframe thead th {\n        text-align: right;\n    }\n</style>\n<table border=\"1\" class=\"dataframe\">\n  <thead>\n    <tr style=\"text-align: right;\">\n      <th></th>\n      <th>gross</th>\n      <th>budget</th>\n    </tr>\n    <tr>\n      <th>title</th>\n      <th></th>\n      <th></th>\n    </tr>\n  </thead>\n  <tbody>\n    <tr>\n      <th>Star Wars: Episode VII - The Force Awakens</th>\n      <td>NaN</td>\n      <td>NaN</td>\n    </tr>\n    <tr>\n      <th>The Lovers</th>\n      <td>NaN</td>\n      <td>NaN</td>\n    </tr>\n    <tr>\n      <th>Godzilla Resurgence</th>\n      <td>NaN</td>\n      <td>NaN</td>\n    </tr>\n    <tr>\n      <th>Harry Potter and the Deathly Hallows: Part II</th>\n      <td>NaN</td>\n      <td>NaN</td>\n    </tr>\n    <tr>\n      <th>Harry Potter and the Deathly Hallows: Part I</th>\n      <td>NaN</td>\n      <td>NaN</td>\n    </tr>\n  </tbody>\n</table>\n</div>",
            "text/plain": "                                               gross  budget\ntitle                                                       \nStar Wars: Episode VII - The Force Awakens       NaN     NaN\nThe Lovers                                       NaN     NaN\nGodzilla Resurgence                              NaN     NaN\nHarry Potter and the Deathly Hallows: Part II    NaN     NaN\nHarry Potter and the Deathly Hallows: Part I     NaN     NaN"
          },
          "metadata": {}
        }
      ]
    },
    {
      "metadata": {
        "trusted": true
      },
      "cell_type": "code",
      "source": "find_missing(movie, 'color', 'year')",
      "execution_count": 11,
      "outputs": [
        {
          "output_type": "execute_result",
          "execution_count": 11,
          "data": {
            "text/html": "<div>\n<style scoped>\n    .dataframe tbody tr th:only-of-type {\n        vertical-align: middle;\n    }\n\n    .dataframe tbody tr th {\n        vertical-align: top;\n    }\n\n    .dataframe thead th {\n        text-align: right;\n    }\n</style>\n<table border=\"1\" class=\"dataframe\">\n  <thead>\n    <tr style=\"text-align: right;\">\n      <th></th>\n      <th>color</th>\n      <th>year</th>\n    </tr>\n    <tr>\n      <th>title</th>\n      <th></th>\n      <th></th>\n    </tr>\n  </thead>\n  <tbody>\n    <tr>\n      <th>Star Wars: Episode VII - The Force Awakens</th>\n      <td>NaN</td>\n      <td>NaN</td>\n    </tr>\n    <tr>\n      <th>10,000 B.C.</th>\n      <td>NaN</td>\n      <td>NaN</td>\n    </tr>\n    <tr>\n      <th>Daredevil</th>\n      <td>NaN</td>\n      <td>NaN</td>\n    </tr>\n    <tr>\n      <th>Unforgettable</th>\n      <td>NaN</td>\n      <td>NaN</td>\n    </tr>\n  </tbody>\n</table>\n</div>",
            "text/plain": "                                           color  year\ntitle                                                 \nStar Wars: Episode VII - The Force Awakens   NaN   NaN\n10,000 B.C.                                  NaN   NaN\nDaredevil                                    NaN   NaN\nUnforgettable                                NaN   NaN"
          },
          "metadata": {}
        }
      ]
    },
    {
      "metadata": {
        "trusted": true
      },
      "cell_type": "code",
      "source": "",
      "execution_count": null,
      "outputs": []
    },
    {
      "metadata": {
        "trusted": true
      },
      "cell_type": "code",
      "source": "",
      "execution_count": null,
      "outputs": []
    }
  ],
  "metadata": {
    "kernelspec": {
      "name": "python36",
      "display_name": "Python 3.6",
      "language": "python"
    },
    "language_info": {
      "mimetype": "text/x-python",
      "nbconvert_exporter": "python",
      "name": "python",
      "pygments_lexer": "ipython3",
      "version": "3.6.6",
      "file_extension": ".py",
      "codemirror_mode": {
        "version": 3,
        "name": "ipython"
      }
    }
  },
  "nbformat": 4,
  "nbformat_minor": 2
}